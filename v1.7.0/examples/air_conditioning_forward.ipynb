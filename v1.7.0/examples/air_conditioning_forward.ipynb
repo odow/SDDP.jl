{
 "cells": [
  {
   "cell_type": "markdown",
   "source": [
    "# Training with a different forward model"
   ],
   "metadata": {}
  },
  {
   "outputs": [],
   "cell_type": "code",
   "source": [
    "using SDDP\n",
    "import HiGHS\n",
    "import Test\n",
    "\n",
    "function create_air_conditioning_model(; convex::Bool)\n",
    "    return SDDP.LinearPolicyGraph(\n",
    "        stages = 3,\n",
    "        lower_bound = 0.0,\n",
    "        optimizer = HiGHS.Optimizer,\n",
    "    ) do sp, t\n",
    "        @variable(sp, 0 <= x <= 100, SDDP.State, initial_value = 0)\n",
    "        @variable(sp, 0 <= u_production <= 200)\n",
    "        @variable(sp, u_overtime >= 0)\n",
    "        if !convex\n",
    "            set_integer(x.out)\n",
    "            set_integer(u_production)\n",
    "            set_integer(u_overtime)\n",
    "        end\n",
    "        @constraint(sp, demand, x.in - x.out + u_production + u_overtime == 0)\n",
    "        Ω = [[100.0], [100.0, 300.0], [100.0, 300.0]]\n",
    "        SDDP.parameterize(ω -> JuMP.set_normalized_rhs(demand, ω), sp, Ω[t])\n",
    "        @stageobjective(sp, 100 * u_production + 300 * u_overtime + 50 * x.out)\n",
    "    end\n",
    "end\n",
    "\n",
    "convex = create_air_conditioning_model(; convex = true)\n",
    "non_convex = create_air_conditioning_model(; convex = false)\n",
    "SDDP.train(\n",
    "    convex;\n",
    "    forward_pass = SDDP.AlternativeForwardPass(non_convex),\n",
    "    post_iteration_callback = SDDP.AlternativePostIterationCallback(non_convex),\n",
    "    iteration_limit = 10,\n",
    ")\n",
    "Test.@test isapprox(SDDP.calculate_bound(non_convex), 62_500.0, atol = 0.1)\n",
    "Test.@test isapprox(SDDP.calculate_bound(convex), 62_500.0, atol = 0.1)"
   ],
   "metadata": {},
   "execution_count": null
  }
 ],
 "nbformat_minor": 3,
 "metadata": {
  "language_info": {
   "file_extension": ".jl",
   "mimetype": "application/julia",
   "name": "julia",
   "version": "1.10.3"
  },
  "kernelspec": {
   "name": "julia-1.10",
   "display_name": "Julia 1.10.3",
   "language": "julia"
  }
 },
 "nbformat": 4
}
