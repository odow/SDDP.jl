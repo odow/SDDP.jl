{
 "cells": [
  {
   "cell_type": "markdown",
   "source": [
    "# SLDP: example 2"
   ],
   "metadata": {}
  },
  {
   "cell_type": "markdown",
   "source": [
    "This example is derived from Section 4.3 of the paper:\n",
    "Ahmed, S., Cabral, F. G., & da Costa, B. F. P. (2019). Stochastic Lipschitz\n",
    "Dynamic Programming. Optimization Online. [PDF](http://www.optimization-online.org/DB_FILE/2019/05/7193.pdf)"
   ],
   "metadata": {}
  },
  {
   "outputs": [],
   "cell_type": "code",
   "source": [
    "using SDDP\n",
    "import HiGHS\n",
    "import Test\n",
    "\n",
    "function sldp_example_two(; first_stage_integer::Bool = true, N = 2)\n",
    "    model = SDDP.LinearPolicyGraph(\n",
    "        stages = 2,\n",
    "        lower_bound = -100.0,\n",
    "        optimizer = HiGHS.Optimizer,\n",
    "    ) do sp, t\n",
    "        @variable(sp, 0 <= x[1:2] <= 5, SDDP.State, initial_value = 0.0)\n",
    "        if t == 1\n",
    "            if first_stage_integer\n",
    "                @variable(sp, 0 <= u[1:2] <= 5, Int)\n",
    "                @constraint(sp, [i = 1:2], u[i] == x[i].out)\n",
    "            end\n",
    "            @stageobjective(sp, -1.5 * x[1].out - 4 * x[2].out)\n",
    "        else\n",
    "            @variable(sp, 0 <= y[1:4] <= 1, Bin)\n",
    "            @variable(sp, ω[1:2])\n",
    "            @stageobjective(sp, -16 * y[1] - 19 * y[2] - 23 * y[3] - 28 * y[4])\n",
    "            @constraint(\n",
    "                sp,\n",
    "                2 * y[1] + 3 * y[2] + 4 * y[3] + 5 * y[4] <= ω[1] - x[1].in\n",
    "            )\n",
    "            @constraint(\n",
    "                sp,\n",
    "                6 * y[1] + 1 * y[2] + 3 * y[3] + 2 * y[4] <= ω[2] - x[2].in\n",
    "            )\n",
    "            steps = range(5, stop = 15, length = N)\n",
    "            SDDP.parameterize(sp, [[i, j] for i in steps for j in steps]) do φ\n",
    "                return JuMP.fix.(ω, φ)\n",
    "            end\n",
    "        end\n",
    "    end\n",
    "    if get(ARGS, 1, \"\") == \"--write\"\n",
    "        # Run `$ julia sldp_example_two.jl --write` to update the benchmark\n",
    "        # model directory\n",
    "        model_dir = joinpath(@__DIR__, \"..\", \"..\", \"..\", \"benchmarks\", \"models\")\n",
    "        SDDP.write_to_file(\n",
    "            model,\n",
    "            joinpath(model_dir, \"sldp_example_two_$(N).sof.json.gz\");\n",
    "            test_scenarios = 30,\n",
    "        )\n",
    "        return\n",
    "    end\n",
    "    SDDP.train(model; log_frequency = 10)\n",
    "    bound = SDDP.calculate_bound(model)\n",
    "\n",
    "    if N == 2\n",
    "        Test.@test bound <= -57.0\n",
    "    elseif N == 3\n",
    "        Test.@test bound <= -59.33\n",
    "    elseif N == 6\n",
    "        Test.@test bound <= -61.22\n",
    "    end\n",
    "    return\n",
    "end\n",
    "\n",
    "sldp_example_two(N = 2)\n",
    "sldp_example_two(N = 3)\n",
    "sldp_example_two(N = 6)"
   ],
   "metadata": {},
   "execution_count": null
  }
 ],
 "nbformat_minor": 3,
 "metadata": {
  "language_info": {
   "file_extension": ".jl",
   "mimetype": "application/julia",
   "name": "julia",
   "version": "1.10.3"
  },
  "kernelspec": {
   "name": "julia-1.10",
   "display_name": "Julia 1.10.3",
   "language": "julia"
  }
 },
 "nbformat": 4
}
