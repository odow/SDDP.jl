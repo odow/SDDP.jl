{
 "cells": [
  {
   "cell_type": "markdown",
   "source": [
    "# Markovian policy graphs"
   ],
   "metadata": {}
  },
  {
   "cell_type": "markdown",
   "source": [
    "In our previous tutorials (An introduction to SDDP.jl and\n",
    "Uncertainty in the objective function), we formulated a simple\n",
    "hydrothermal scheduling problem with stagewise-independent random variables in\n",
    "the right-hand side of the constraints and in the objective function.\n",
    "Now, in this tutorial, we introduce some *stagewise-dependent* uncertainty\n",
    "using a Markov chain."
   ],
   "metadata": {}
  },
  {
   "cell_type": "markdown",
   "source": [
    "## Formulating the problem"
   ],
   "metadata": {}
  },
  {
   "cell_type": "markdown",
   "source": [
    "In this tutorial we consider a Markov chain with two *climate* states: wet and\n",
    "dry. Each Markov state is associated with an integer, in this case the wet\n",
    "climate state  is Markov state `1` and the dry climate state is Markov state\n",
    "`2`. In the wet climate state, the probability of the high inflow increases to\n",
    "50%, and the probability of the low inflow decreases to 1/6. In the dry\n",
    "climate state, the converse happens. There is also persistence in the climate\n",
    "state: the probability of remaining in the current state is 75%, and the\n",
    "probability of transitioning to the other climate state is 25%. We assume that\n",
    "the first stage starts in the wet climate state."
   ],
   "metadata": {}
  },
  {
   "cell_type": "markdown",
   "source": [
    "Here is a picture of the model we're going to implement.\n",
    "\n",
    "![Markovian policy graph](../assets/stochastic_markovian_policy_graph.png)"
   ],
   "metadata": {}
  },
  {
   "cell_type": "markdown",
   "source": [
    "There are five nodes in our graph. Each node is named by a tuple `(t, i)`,\n",
    "where `t` is the stage for `t=1,2,3`, and `i` is the Markov state for `i=1,2`.\n",
    "As before, the wavy lines denote the stagewise-independent random variable."
   ],
   "metadata": {}
  },
  {
   "cell_type": "markdown",
   "source": [
    "For each stage, we need to provide a Markov transition matrix. This is an\n",
    "`M`x`N` matrix, where the element `A[i, j]` gives the probability of\n",
    "transitioning from Markov state `i` in the previous stage to Markov state `j`\n",
    "in the current stage. The first stage is special because we assume there is a\n",
    "\"zero'th\" stage which has one Markov state (the round node in the graph\n",
    "above). Furthermore, the number of columns in the transition matrix of a stage\n",
    "(i.e. the number of Markov states) must equal the number of rows in the next\n",
    "stage's transition matrix. For our example, the vector of Markov transition\n",
    "matrices is given by:"
   ],
   "metadata": {}
  },
  {
   "outputs": [],
   "cell_type": "code",
   "source": [
    "T = Array{Float64,2}[[1.0]', [0.75 0.25], [0.75 0.25; 0.25 0.75]]"
   ],
   "metadata": {},
   "execution_count": null
  },
  {
   "cell_type": "markdown",
   "source": [
    "!!! note\n",
    "    Make sure to add the `'` after the first transition matrix so Julia can\n",
    "    distinguish between a vector and a matrix."
   ],
   "metadata": {}
  },
  {
   "cell_type": "markdown",
   "source": [
    "## Creating a model"
   ],
   "metadata": {}
  },
  {
   "outputs": [],
   "cell_type": "code",
   "source": [
    "using SDDP, HiGHS\n",
    "\n",
    "Ω = [\n",
    "    (inflow = 0.0, fuel_multiplier = 1.5),\n",
    "    (inflow = 50.0, fuel_multiplier = 1.0),\n",
    "    (inflow = 100.0, fuel_multiplier = 0.75),\n",
    "]\n",
    "\n",
    "model = SDDP.MarkovianPolicyGraph(;\n",
    "    transition_matrices = Array{Float64,2}[\n",
    "        [1.0]',\n",
    "        [0.75 0.25],\n",
    "        [0.75 0.25; 0.25 0.75],\n",
    "    ],\n",
    "    sense = :Min,\n",
    "    lower_bound = 0.0,\n",
    "    optimizer = HiGHS.Optimizer,\n",
    ") do subproblem, node\n",
    "    # Unpack the stage and Markov index.\n",
    "    t, markov_state = node\n",
    "    # Define the state variable.\n",
    "    @variable(subproblem, 0 <= volume <= 200, SDDP.State, initial_value = 200)\n",
    "    # Define the control variables.\n",
    "    @variables(subproblem, begin\n",
    "        thermal_generation >= 0\n",
    "        hydro_generation >= 0\n",
    "        hydro_spill >= 0\n",
    "        inflow\n",
    "    end)\n",
    "    # Define the constraints\n",
    "    @constraints(\n",
    "        subproblem,\n",
    "        begin\n",
    "            volume.out == volume.in + inflow - hydro_generation - hydro_spill\n",
    "            thermal_generation + hydro_generation == 150.0\n",
    "        end\n",
    "    )\n",
    "    # Note how we can use `markov_state` to dispatch an `if` statement.\n",
    "    probability = if markov_state == 1  # wet climate state\n",
    "        [1 / 6, 1 / 3, 1 / 2]\n",
    "    else  # dry climate state\n",
    "        [1 / 2, 1 / 3, 1 / 6]\n",
    "    end\n",
    "\n",
    "    fuel_cost = [50.0, 100.0, 150.0]\n",
    "    SDDP.parameterize(subproblem, Ω, probability) do ω\n",
    "        JuMP.fix(inflow, ω.inflow)\n",
    "        @stageobjective(\n",
    "            subproblem,\n",
    "            ω.fuel_multiplier * fuel_cost[t] * thermal_generation\n",
    "        )\n",
    "    end\n",
    "end"
   ],
   "metadata": {},
   "execution_count": null
  },
  {
   "cell_type": "markdown",
   "source": [
    "!!! tip\n",
    "    For more information on `SDDP.MarkovianPolicyGraph`s, read\n",
    "    Create a general policy graph."
   ],
   "metadata": {}
  },
  {
   "cell_type": "markdown",
   "source": [
    "## Training and simulating the policy"
   ],
   "metadata": {}
  },
  {
   "cell_type": "markdown",
   "source": [
    "As in the previous three tutorials, we train the policy:"
   ],
   "metadata": {}
  },
  {
   "outputs": [],
   "cell_type": "code",
   "source": [
    "SDDP.train(model)"
   ],
   "metadata": {},
   "execution_count": null
  },
  {
   "cell_type": "markdown",
   "source": [
    "Instead of performing a Monte Carlo simulation like the previous tutorials, we\n",
    "may want to simulate one particular sequence of noise realizations. This\n",
    "_historical_ simulation can also be conducted by passing a\n",
    "`SDDP.Historical` sampling scheme to the `sampling_scheme` keyword of\n",
    "the `SDDP.simulate` function."
   ],
   "metadata": {}
  },
  {
   "cell_type": "markdown",
   "source": [
    "We can confirm that the historical sequence of nodes was visited by querying\n",
    "the `:node_index` key of the simulation results."
   ],
   "metadata": {}
  },
  {
   "outputs": [],
   "cell_type": "code",
   "source": [
    "simulations = SDDP.simulate(\n",
    "    model;\n",
    "    sampling_scheme = SDDP.Historical([\n",
    "        ((1, 1), Ω[1]),\n",
    "        ((2, 2), Ω[3]),\n",
    "        ((3, 1), Ω[2]),\n",
    "    ]),\n",
    ")\n",
    "\n",
    "[stage[:node_index] for stage in simulations[1]]"
   ],
   "metadata": {},
   "execution_count": null
  }
 ],
 "nbformat_minor": 3,
 "metadata": {
  "language_info": {
   "file_extension": ".jl",
   "mimetype": "application/julia",
   "name": "julia",
   "version": "1.10.4"
  },
  "kernelspec": {
   "name": "julia-1.10",
   "display_name": "Julia 1.10.4",
   "language": "julia"
  }
 },
 "nbformat": 4
}
