{
 "cells": [
  {
   "cell_type": "markdown",
   "source": [
    "# Example: deterministic to stochastic"
   ],
   "metadata": {}
  },
  {
   "cell_type": "markdown",
   "source": [
    "The purpose of this tutorial is to explain how we can go from a deterministic\n",
    "time-staged optimal control model in JuMP to a multistage stochastic\n",
    "optimization model in `SDDP.jl`. As a motivating problem, we consider the\n",
    "hydro-thermal problem with a single reservoir."
   ],
   "metadata": {}
  },
  {
   "cell_type": "markdown",
   "source": [
    "## Packages"
   ],
   "metadata": {}
  },
  {
   "cell_type": "markdown",
   "source": [
    "This tutorial requires the following packages:"
   ],
   "metadata": {}
  },
  {
   "outputs": [],
   "cell_type": "code",
   "source": [
    "using JuMP\n",
    "using SDDP\n",
    "import CSV\n",
    "import DataFrames\n",
    "import HiGHS\n",
    "import Plots"
   ],
   "metadata": {},
   "execution_count": null
  },
  {
   "cell_type": "markdown",
   "source": [
    "## Data"
   ],
   "metadata": {}
  },
  {
   "cell_type": "markdown",
   "source": [
    "First, we need some data for the problem. For this tutorial, we'll write CSV\n",
    "files to a temporary directory from Julia. If you have an existing file, you\n",
    "could change the filename to point to that instead."
   ],
   "metadata": {}
  },
  {
   "outputs": [],
   "cell_type": "code",
   "source": [
    "dir = mktempdir()\n",
    "filename = joinpath(dir, \"example_reservoir.csv\")"
   ],
   "metadata": {},
   "execution_count": null
  },
  {
   "cell_type": "markdown",
   "source": [
    "Here is the data"
   ],
   "metadata": {}
  },
  {
   "outputs": [],
   "cell_type": "code",
   "source": [
    "csv_data = \"\"\"\n",
    "week,inflow,demand,cost\n",
    "1,3,7,10.2\\n2,2,7.1,10.4\\n3,3,7.2,10.6\\n4,2,7.3,10.9\\n5,3,7.4,11.2\\n\n",
    "6,2,7.6,11.5\\n7,3,7.8,11.9\\n8,2,8.1,12.3\\n9,3,8.3,12.7\\n10,2,8.6,13.1\\n\n",
    "11,3,8.9,13.6\\n12,2,9.2,14\\n13,3,9.5,14.5\\n14,2,9.8,14.9\\n15,3,10.1,15.3\\n\n",
    "16,2,10.4,15.8\\n17,3,10.7,16.2\\n18,2,10.9,16.6\\n19,3,11.2,17\\n20,3,11.4,17.4\\n\n",
    "21,3,11.6,17.7\\n22,2,11.7,18\\n23,3,11.8,18.3\\n24,2,11.9,18.5\\n25,3,12,18.7\\n\n",
    "26,2,12,18.9\\n27,3,12,19\\n28,2,11.9,19.1\\n29,3,11.8,19.2\\n30,2,11.7,19.2\\n\n",
    "31,3,11.6,19.2\\n32,2,11.4,19.2\\n33,3,11.2,19.1\\n34,2,10.9,19\\n35,3,10.7,18.9\\n\n",
    "36,2,10.4,18.8\\n37,3,10.1,18.6\\n38,2,9.8,18.5\\n39,3,9.5,18.4\\n40,3,9.2,18.2\\n\n",
    "41,2,8.9,18.1\\n42,3,8.6,17.9\\n43,2,8.3,17.8\\n44,3,8.1,17.7\\n45,2,7.8,17.6\\n\n",
    "46,3,7.6,17.5\\n47,2,7.4,17.5\\n48,3,7.3,17.5\\n49,2,7.2,17.5\\n50,3,7.1,17.6\\n\n",
    "51,3,7,17.7\\n52,3,7,17.8\\n\n",
    "\"\"\"\n",
    "write(filename, csv_data);"
   ],
   "metadata": {},
   "execution_count": null
  },
  {
   "cell_type": "markdown",
   "source": [
    "And here we read it into a DataFrame:"
   ],
   "metadata": {}
  },
  {
   "outputs": [],
   "cell_type": "code",
   "source": [
    "data = CSV.read(filename, DataFrames.DataFrame)"
   ],
   "metadata": {},
   "execution_count": null
  },
  {
   "cell_type": "markdown",
   "source": [
    "It's easier to visualize the data if we plot it:"
   ],
   "metadata": {}
  },
  {
   "outputs": [],
   "cell_type": "code",
   "source": [
    "Plots.plot(\n",
    "    Plots.plot(data[!, :inflow], ylabel = \"Inflow\"),\n",
    "    Plots.plot(data[!, :demand], ylabel = \"Demand\"),\n",
    "    Plots.plot(data[!, :cost], ylabel = \"Cost\", xlabel = \"Week\");\n",
    "    layout = (3, 1),\n",
    "    legend = false,\n",
    ")"
   ],
   "metadata": {},
   "execution_count": null
  },
  {
   "cell_type": "markdown",
   "source": [
    "The number of weeks will be useful later:"
   ],
   "metadata": {}
  },
  {
   "outputs": [],
   "cell_type": "code",
   "source": [
    "T = size(data, 1)"
   ],
   "metadata": {},
   "execution_count": null
  },
  {
   "cell_type": "markdown",
   "source": [
    "## Deterministic JuMP model"
   ],
   "metadata": {}
  },
  {
   "cell_type": "markdown",
   "source": [
    "To start, we construct a deterministic model in pure JuMP."
   ],
   "metadata": {}
  },
  {
   "cell_type": "markdown",
   "source": [
    "Create a JuMP model, using `HiGHS` as the optimizer:"
   ],
   "metadata": {}
  },
  {
   "outputs": [],
   "cell_type": "code",
   "source": [
    "model = Model(HiGHS.Optimizer)\n",
    "set_silent(model)"
   ],
   "metadata": {},
   "execution_count": null
  },
  {
   "cell_type": "markdown",
   "source": [
    "`x_storage[t]`: the amount of water in the reservoir at the start of stage `t`:"
   ],
   "metadata": {}
  },
  {
   "outputs": [],
   "cell_type": "code",
   "source": [
    "reservoir_max = 320.0\n",
    "@variable(model, 0 <= x_storage[1:T+1] <= reservoir_max)"
   ],
   "metadata": {},
   "execution_count": null
  },
  {
   "cell_type": "markdown",
   "source": [
    "We need an initial condition for `x_storage[1]`. Fix it to 300 units:"
   ],
   "metadata": {}
  },
  {
   "outputs": [],
   "cell_type": "code",
   "source": [
    "reservoir_initial = 300\n",
    "fix(x_storage[1], reservoir_initial; force = true)"
   ],
   "metadata": {},
   "execution_count": null
  },
  {
   "cell_type": "markdown",
   "source": [
    "`u_flow[t]`: the amount of water to flow through the turbine in stage `t`:"
   ],
   "metadata": {}
  },
  {
   "outputs": [],
   "cell_type": "code",
   "source": [
    "flow_max = 12\n",
    "@variable(model, 0 <= u_flow[1:T] <= flow_max)"
   ],
   "metadata": {},
   "execution_count": null
  },
  {
   "cell_type": "markdown",
   "source": [
    "`u_spill[t]`: the amount of water to spill from the reservoir in stage `t`,\n",
    "bypassing the turbine:"
   ],
   "metadata": {}
  },
  {
   "outputs": [],
   "cell_type": "code",
   "source": [
    "@variable(model, 0 <= u_spill[1:T])"
   ],
   "metadata": {},
   "execution_count": null
  },
  {
   "cell_type": "markdown",
   "source": [
    "`u_thermal[t]`: the amount of thermal generation in stage `t`:"
   ],
   "metadata": {}
  },
  {
   "outputs": [],
   "cell_type": "code",
   "source": [
    "@variable(model, 0 <= u_thermal[1:T])"
   ],
   "metadata": {},
   "execution_count": null
  },
  {
   "cell_type": "markdown",
   "source": [
    "`ω_inflow[t]`: the amount of inflow to the reservoir in stage `t`:"
   ],
   "metadata": {}
  },
  {
   "outputs": [],
   "cell_type": "code",
   "source": [
    "@variable(model, ω_inflow[1:T])"
   ],
   "metadata": {},
   "execution_count": null
  },
  {
   "cell_type": "markdown",
   "source": [
    "For this model, our inflow is fixed, so we fix it to the data we have:"
   ],
   "metadata": {}
  },
  {
   "outputs": [],
   "cell_type": "code",
   "source": [
    "for t in 1:T\n",
    "    fix(ω_inflow[t], data[t, :inflow])\n",
    "end"
   ],
   "metadata": {},
   "execution_count": null
  },
  {
   "cell_type": "markdown",
   "source": [
    "The water balance constraint says that the water in the reservoir at the start\n",
    "of stage `t+1` is the water in the reservoir at the start of stage `t`, less\n",
    "the amount flowed through the turbine, `u_flow[t]`, less the amount spilled,\n",
    "`u_spill[t]`, plus the amount of inflow, `ω_inflow[t]`, into the reservoir:"
   ],
   "metadata": {}
  },
  {
   "outputs": [],
   "cell_type": "code",
   "source": [
    "@constraint(\n",
    "    model,\n",
    "    [t in 1:T],\n",
    "    x_storage[t+1] == x_storage[t] - u_flow[t] - u_spill[t] + ω_inflow[t],\n",
    ")"
   ],
   "metadata": {},
   "execution_count": null
  },
  {
   "cell_type": "markdown",
   "source": [
    "We also need a `supply = demand` constraint. In practice, the units of this\n",
    "would be in MWh, and there would be a conversion factor between the amount of\n",
    "water flowing through the turbine and the power output. To simplify, we assume\n",
    "that power and water have the same units, so that one \"unit\" of demand is\n",
    "equal to one \"unit\" of the reservoir `x_storage[t]`:"
   ],
   "metadata": {}
  },
  {
   "outputs": [],
   "cell_type": "code",
   "source": [
    "@constraint(model, [t in 1:T], u_flow[t] + u_thermal[t] == data[t, :demand])"
   ],
   "metadata": {},
   "execution_count": null
  },
  {
   "cell_type": "markdown",
   "source": [
    "Our objective is to minimize the cost of thermal generation:"
   ],
   "metadata": {}
  },
  {
   "outputs": [],
   "cell_type": "code",
   "source": [
    "@objective(model, Min, sum(data[t, :cost] * u_thermal[t] for t in 1:T))"
   ],
   "metadata": {},
   "execution_count": null
  },
  {
   "cell_type": "markdown",
   "source": [
    "Let's optimize and check the solution"
   ],
   "metadata": {}
  },
  {
   "outputs": [],
   "cell_type": "code",
   "source": [
    "optimize!(model)\n",
    "solution_summary(model)"
   ],
   "metadata": {},
   "execution_count": null
  },
  {
   "cell_type": "markdown",
   "source": [
    "The total cost is:"
   ],
   "metadata": {}
  },
  {
   "outputs": [],
   "cell_type": "code",
   "source": [
    "objective_value(model)"
   ],
   "metadata": {},
   "execution_count": null
  },
  {
   "cell_type": "markdown",
   "source": [
    "Here's a plot of demand and generation:"
   ],
   "metadata": {}
  },
  {
   "outputs": [],
   "cell_type": "code",
   "source": [
    "Plots.plot(data[!, :demand]; label = \"Demand\", xlabel = \"Week\")\n",
    "Plots.plot!(value.(u_thermal), label = \"Thermal\")\n",
    "Plots.plot!(value.(u_flow), label = \"Hydro\")"
   ],
   "metadata": {},
   "execution_count": null
  },
  {
   "cell_type": "markdown",
   "source": [
    "And here's the storage over time:"
   ],
   "metadata": {}
  },
  {
   "outputs": [],
   "cell_type": "code",
   "source": [
    "Plots.plot(value.(x_storage); label = \"Storage\", xlabel = \"Week\")"
   ],
   "metadata": {},
   "execution_count": null
  },
  {
   "cell_type": "markdown",
   "source": [
    "## Deterministic SDDP model"
   ],
   "metadata": {}
  },
  {
   "cell_type": "markdown",
   "source": [
    "For the next step, we show how to decompose our JuMP model into SDDP.jl. It\n",
    "should obtain the same solution."
   ],
   "metadata": {}
  },
  {
   "outputs": [],
   "cell_type": "code",
   "source": [
    "model = SDDP.LinearPolicyGraph(\n",
    "    stages = T,\n",
    "    sense = :Min,\n",
    "    lower_bound = 0.0,\n",
    "    optimizer = HiGHS.Optimizer,\n",
    ") do sp, t\n",
    "    @variable(\n",
    "        sp,\n",
    "        0 <= x_storage <= reservoir_max,\n",
    "        SDDP.State,\n",
    "        initial_value = reservoir_initial,\n",
    "    )\n",
    "    @variable(sp, 0 <= u_flow <= flow_max)\n",
    "    @variable(sp, 0 <= u_thermal)\n",
    "    @variable(sp, 0 <= u_spill)\n",
    "    @variable(sp, ω_inflow)\n",
    "    fix(ω_inflow, data[t, :inflow])\n",
    "    @constraint(sp, x_storage.out == x_storage.in - u_flow - u_spill + ω_inflow)\n",
    "    @constraint(sp, u_flow + u_thermal == data[t, :demand])\n",
    "    @stageobjective(sp, data[t, :cost] * u_thermal)\n",
    "    return\n",
    "end"
   ],
   "metadata": {},
   "execution_count": null
  },
  {
   "cell_type": "markdown",
   "source": [
    "Can you see how the JuMP model maps to this syntax? We have created a\n",
    "`SDDP.LinearPolicyGraph` with `T` stages, we're minimizing, and we're\n",
    "using `HiGHS.Optimizer` as the optimizer."
   ],
   "metadata": {}
  },
  {
   "cell_type": "markdown",
   "source": [
    "A few bits might be non-obvious:\n",
    "\n",
    "* We need to provide a lower bound for the objective function. Since our costs\n",
    "  are always positive, a valid lower bound for the total cost is `0.0`.\n",
    "* We define `x_storage` as a state variable using `SDDP.State`. A state\n",
    "  variable is any variable that flows through time, and for which we need to\n",
    "  know the value of it in stage `t-1` to compute the best action in stage `t`.\n",
    "  The state variable `x_storage` is actually two decision variables,\n",
    "  `x_storage.in` and `x_storage.out`, which represent `x_storage[t]` and\n",
    "  `x_storage[t+1]` respectively.\n",
    "* We need to use `@stageobjective` instead of `@objective`."
   ],
   "metadata": {}
  },
  {
   "cell_type": "markdown",
   "source": [
    "Instead of calling `JuMP.optimize!`, SDDP.jl uses a `train` method. With our\n",
    "machine learning hat on, you can think of SDDP.jl as training a function for\n",
    "each stage that accepts the current reservoir state as input and returns the\n",
    "optimal actions as output. It is also an iterative algorithm, so we need to\n",
    "specify when it should terminate:"
   ],
   "metadata": {}
  },
  {
   "outputs": [],
   "cell_type": "code",
   "source": [
    "SDDP.train(model; iteration_limit = 10)"
   ],
   "metadata": {},
   "execution_count": null
  },
  {
   "cell_type": "markdown",
   "source": [
    "As a quick sanity check, did we get the same cost as our JuMP model?"
   ],
   "metadata": {}
  },
  {
   "outputs": [],
   "cell_type": "code",
   "source": [
    "SDDP.calculate_bound(model)"
   ],
   "metadata": {},
   "execution_count": null
  },
  {
   "cell_type": "markdown",
   "source": [
    "That's good. Next, to check the value of the decision variables. This isn't as\n",
    "straight forward as our JuMP model. Instead, we need to _simulate_ the policy,\n",
    "and then extract the values of the decision variables from the results of the\n",
    "simulation."
   ],
   "metadata": {}
  },
  {
   "cell_type": "markdown",
   "source": [
    "Since our model is deterministic, we need only 1 replication of the\n",
    "simulation, and we want to record the values of the `x_storage`, `u_flow`, and\n",
    "`u_thermal` variables:"
   ],
   "metadata": {}
  },
  {
   "outputs": [],
   "cell_type": "code",
   "source": [
    "simulations = SDDP.simulate(\n",
    "    model,\n",
    "    1,  # Number of replications\n",
    "    [:x_storage, :u_flow, :u_thermal],\n",
    ");"
   ],
   "metadata": {},
   "execution_count": null
  },
  {
   "cell_type": "markdown",
   "source": [
    "The `simulations` vector is too big to show. But it contains one element for\n",
    "each replication, and each replication contains one dictionary for each stage."
   ],
   "metadata": {}
  },
  {
   "cell_type": "markdown",
   "source": [
    "For example, the data corresponding to the tenth stage in the first\n",
    "replication is:"
   ],
   "metadata": {}
  },
  {
   "outputs": [],
   "cell_type": "code",
   "source": [
    "simulations[1][10]"
   ],
   "metadata": {},
   "execution_count": null
  },
  {
   "cell_type": "markdown",
   "source": [
    "Let's grab the trace of the `u_thermal` and `u_flow` variables in the first\n",
    "replication, and then plot them:"
   ],
   "metadata": {}
  },
  {
   "outputs": [],
   "cell_type": "code",
   "source": [
    "r_sim = [sim[:u_thermal] for sim in simulations[1]]\n",
    "u_sim = [sim[:u_flow] for sim in simulations[1]]\n",
    "\n",
    "Plots.plot(data[!, :demand]; label = \"Demand\", xlabel = \"Week\")\n",
    "Plots.plot!(r_sim, label = \"Thermal\")\n",
    "Plots.plot!(u_sim, label = \"Hydro\")"
   ],
   "metadata": {},
   "execution_count": null
  },
  {
   "cell_type": "markdown",
   "source": [
    "Perfect. That's the same as we got before."
   ],
   "metadata": {}
  },
  {
   "cell_type": "markdown",
   "source": [
    "Now let's look at `x_storage`. This is a little more complicated, because we\n",
    "need to grab the outgoing value of the state variable in each stage:"
   ],
   "metadata": {}
  },
  {
   "outputs": [],
   "cell_type": "code",
   "source": [
    "x_sim = [sim[:x_storage].out for sim in simulations[1]]\n",
    "\n",
    "Plots.plot(x_sim; label = \"Storage\", xlabel = \"Week\")"
   ],
   "metadata": {},
   "execution_count": null
  },
  {
   "cell_type": "markdown",
   "source": [
    "## Stochastic SDDP model"
   ],
   "metadata": {}
  },
  {
   "cell_type": "markdown",
   "source": [
    "Now we add some randomness to our model. In each stage, we assume that the\n",
    "inflow could be: 2 units lower, with 30% probability; the same as before, with\n",
    "40% probability; or 5 units higher, with 30% probability."
   ],
   "metadata": {}
  },
  {
   "outputs": [],
   "cell_type": "code",
   "source": [
    "model = SDDP.LinearPolicyGraph(\n",
    "    stages = T,\n",
    "    sense = :Min,\n",
    "    lower_bound = 0.0,\n",
    "    optimizer = HiGHS.Optimizer,\n",
    ") do sp, t\n",
    "    @variable(\n",
    "        sp,\n",
    "        0 <= x_storage <= reservoir_max,\n",
    "        SDDP.State,\n",
    "        initial_value = reservoir_initial,\n",
    "    )\n",
    "    @variable(sp, 0 <= u_flow <= flow_max)\n",
    "    @variable(sp, 0 <= u_thermal)\n",
    "    @variable(sp, 0 <= u_spill)\n",
    "    @variable(sp, ω_inflow)\n",
    "    # <--- This bit is new\n",
    "    Ω, P = [-2, 0, 5], [0.3, 0.4, 0.3]\n",
    "    SDDP.parameterize(sp, Ω, P) do ω\n",
    "        fix(ω_inflow, data[t, :inflow] + ω)\n",
    "        return\n",
    "    end\n",
    "    # --->\n",
    "    @constraint(sp, x_storage.out == x_storage.in - u_flow - u_spill + ω_inflow)\n",
    "    @constraint(sp, u_flow + u_thermal == data[t, :demand])\n",
    "    @stageobjective(sp, data[t, :cost] * u_thermal)\n",
    "    return\n",
    "end"
   ],
   "metadata": {},
   "execution_count": null
  },
  {
   "cell_type": "markdown",
   "source": [
    "Can you see the differences?"
   ],
   "metadata": {}
  },
  {
   "cell_type": "markdown",
   "source": [
    "Let's train our new model. We need more iterations because of the\n",
    "stochasticity:"
   ],
   "metadata": {}
  },
  {
   "outputs": [],
   "cell_type": "code",
   "source": [
    "SDDP.train(model; iteration_limit = 100)"
   ],
   "metadata": {},
   "execution_count": null
  },
  {
   "cell_type": "markdown",
   "source": [
    "Now simulate the policy. This time we do 100 replications because the policy\n",
    "is now stochastic instead of deterministic:"
   ],
   "metadata": {}
  },
  {
   "outputs": [],
   "cell_type": "code",
   "source": [
    "simulations =\n",
    "    SDDP.simulate(model, 100, [:x_storage, :u_flow, :u_thermal, :ω_inflow]);"
   ],
   "metadata": {},
   "execution_count": null
  },
  {
   "cell_type": "markdown",
   "source": [
    "And let's plot the use of thermal generation in each replication:"
   ],
   "metadata": {}
  },
  {
   "outputs": [],
   "cell_type": "code",
   "source": [
    "plot = Plots.plot(data[!, :demand]; label = \"Demand\", xlabel = \"Week\")\n",
    "for simulation in simulations\n",
    "    Plots.plot!(plot, [sim[:u_thermal] for sim in simulation], label = \"\")\n",
    "end\n",
    "plot"
   ],
   "metadata": {},
   "execution_count": null
  },
  {
   "cell_type": "markdown",
   "source": [
    "Viewing an interpreting static plots like this is difficult, particularly as\n",
    "the number of simulations grows. SDDP.jl includes an interactive\n",
    "`SpaghettiPlot` that makes things easier:"
   ],
   "metadata": {}
  },
  {
   "outputs": [],
   "cell_type": "code",
   "source": [
    "plot = SDDP.SpaghettiPlot(simulations)\n",
    "SDDP.add_spaghetti(plot; title = \"Storage\") do sim\n",
    "    return sim[:x_storage].out\n",
    "end\n",
    "SDDP.add_spaghetti(plot; title = \"Hydro\") do sim\n",
    "    return sim[:u_flow]\n",
    "end\n",
    "SDDP.add_spaghetti(plot; title = \"Inflow\") do sim\n",
    "    return sim[:ω_inflow]\n",
    "end\n",
    "SDDP.plot(\n",
    "    plot,\n",
    "    \"spaghetti_plot.html\";\n",
    "    # We need this to build the documentation. Set to true if running locally.\n",
    "    open = false,\n",
    ")"
   ],
   "metadata": {},
   "execution_count": null
  },
  {
   "cell_type": "markdown",
   "source": [
    "<iframe src=\"../spaghetti_plot.html\" style=\"width:100%;height:500px;\"></iframe>"
   ],
   "metadata": {}
  },
  {
   "cell_type": "markdown",
   "source": [
    "!!! info\n",
    "    If you have trouble viewing the plot, you can\n",
    "    [open it in a new window](spaghetti_plot.html)."
   ],
   "metadata": {}
  },
  {
   "cell_type": "markdown",
   "source": [
    "## Cyclic graphs"
   ],
   "metadata": {}
  },
  {
   "cell_type": "markdown",
   "source": [
    "One major problem with our model is that the reservoir is empty at the end of\n",
    "the time horizon. This is because our model does not consider the cost of\n",
    "future years after the `T` weeks."
   ],
   "metadata": {}
  },
  {
   "cell_type": "markdown",
   "source": [
    "We can fix this using a cyclic policy graph. One way to construct a graph is\n",
    "with the `SDDP.UnicyclicGraph` constructor:"
   ],
   "metadata": {}
  },
  {
   "outputs": [],
   "cell_type": "code",
   "source": [
    "SDDP.UnicyclicGraph(0.7; num_nodes = 2)"
   ],
   "metadata": {},
   "execution_count": null
  },
  {
   "cell_type": "markdown",
   "source": [
    "This graph has two nodes, and a loop from node 2 back to node 1 with\n",
    "probability 0.7."
   ],
   "metadata": {}
  },
  {
   "cell_type": "markdown",
   "source": [
    "We can construct a cyclic policy graph as follows:"
   ],
   "metadata": {}
  },
  {
   "outputs": [],
   "cell_type": "code",
   "source": [
    "graph = SDDP.UnicyclicGraph(0.95; num_nodes = T)\n",
    "model = SDDP.PolicyGraph(\n",
    "    graph;\n",
    "    sense = :Min,\n",
    "    lower_bound = 0.0,\n",
    "    optimizer = HiGHS.Optimizer,\n",
    ") do sp, t\n",
    "    @variable(\n",
    "        sp,\n",
    "        0 <= x_storage <= reservoir_max,\n",
    "        SDDP.State,\n",
    "        initial_value = reservoir_initial,\n",
    "    )\n",
    "    @variable(sp, 0 <= u_flow <= flow_max)\n",
    "    @variable(sp, 0 <= u_thermal)\n",
    "    @variable(sp, 0 <= u_spill)\n",
    "    @variable(sp, ω_inflow)\n",
    "    Ω, P = [-2, 0, 5], [0.3, 0.4, 0.3]\n",
    "    SDDP.parameterize(sp, Ω, P) do ω\n",
    "        fix(ω_inflow, data[t, :inflow] + ω)\n",
    "        return\n",
    "    end\n",
    "    @constraint(sp, x_storage.out == x_storage.in - u_flow - u_spill + ω_inflow)\n",
    "    @constraint(sp, u_flow + u_thermal == data[t, :demand])\n",
    "    @stageobjective(sp, data[t, :cost] * u_thermal)\n",
    "    return\n",
    "end"
   ],
   "metadata": {},
   "execution_count": null
  },
  {
   "cell_type": "markdown",
   "source": [
    "Notice how the only thing that has changed is our graph; the subproblems\n",
    "remain the same."
   ],
   "metadata": {}
  },
  {
   "cell_type": "markdown",
   "source": [
    "Let's train a policy:"
   ],
   "metadata": {}
  },
  {
   "outputs": [],
   "cell_type": "code",
   "source": [
    "SDDP.train(model; iteration_limit = 100)"
   ],
   "metadata": {},
   "execution_count": null
  },
  {
   "cell_type": "markdown",
   "source": [
    "When we simulate now, each trajectory will be a different length, because\n",
    "each cycle has a 95% probability of continuing and a 5% probability of\n",
    "stopping."
   ],
   "metadata": {}
  },
  {
   "outputs": [],
   "cell_type": "code",
   "source": [
    "simulations = SDDP.simulate(model, 3);\n",
    "length.(simulations)"
   ],
   "metadata": {},
   "execution_count": null
  },
  {
   "cell_type": "markdown",
   "source": [
    "We can simulate a fixed number of cycles by passing a `sampling_scheme`:"
   ],
   "metadata": {}
  },
  {
   "outputs": [],
   "cell_type": "code",
   "source": [
    "simulations = SDDP.simulate(\n",
    "    model,\n",
    "    100,\n",
    "    [:x_storage, :u_flow];\n",
    "    sampling_scheme = SDDP.InSampleMonteCarlo(;\n",
    "        max_depth = 5 * T,\n",
    "        terminate_on_dummy_leaf = false,\n",
    "    ),\n",
    ");\n",
    "length.(simulations)"
   ],
   "metadata": {},
   "execution_count": null
  },
  {
   "cell_type": "markdown",
   "source": [
    "Let's visualize the policy:"
   ],
   "metadata": {}
  },
  {
   "outputs": [],
   "cell_type": "code",
   "source": [
    "Plots.plot(\n",
    "    SDDP.publication_plot(simulations; ylabel = \"Storage\") do sim\n",
    "        return sim[:x_storage].out\n",
    "    end,\n",
    "    SDDP.publication_plot(simulations; ylabel = \"Hydro\") do sim\n",
    "        return sim[:u_flow]\n",
    "    end;\n",
    "    layout = (2, 1),\n",
    ")"
   ],
   "metadata": {},
   "execution_count": null
  },
  {
   "cell_type": "markdown",
   "source": [
    "## Next steps"
   ],
   "metadata": {}
  },
  {
   "cell_type": "markdown",
   "source": [
    "Our model is very basic. There are many aspects that we could improve:\n",
    "\n",
    "* Can you add a second reservoir to make a river chain?\n",
    "\n",
    "* Can you modify the problem and data to use proper units, including a\n",
    "  conversion between the volume of water flowing through the turbine and the\n",
    "  electrical power output?"
   ],
   "metadata": {}
  }
 ],
 "nbformat_minor": 3,
 "metadata": {
  "language_info": {
   "file_extension": ".jl",
   "mimetype": "application/julia",
   "name": "julia",
   "version": "1.9.3"
  },
  "kernelspec": {
   "name": "julia-1.9",
   "display_name": "Julia 1.9.3",
   "language": "julia"
  }
 },
 "nbformat": 4
}
