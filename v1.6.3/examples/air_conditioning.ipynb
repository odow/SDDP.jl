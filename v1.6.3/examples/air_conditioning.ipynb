{
 "cells": [
  {
   "cell_type": "markdown",
   "source": [
    "# Air conditioning"
   ],
   "metadata": {}
  },
  {
   "cell_type": "markdown",
   "source": [
    "Taken from [Anthony Papavasiliou's notes on SDDP](https://web.archive.org/web/20200504214809/https://perso.uclouvain.be/anthony.papavasiliou/public_html/SDDP.pdf)"
   ],
   "metadata": {}
  },
  {
   "cell_type": "markdown",
   "source": [
    "Consider the following problem\n",
    "* Produce air conditioners for 3 months\n",
    "* 200 units/month at 100 \\$/unit\n",
    "* Overtime costs 300 \\$/unit\n",
    "* Known demand of 100 units for period 1\n",
    "* Equally likely demand, 100 or 300 units, for periods 2, 3\n",
    "* Storage cost is 50 \\$/unit\n",
    "* All demand must be met"
   ],
   "metadata": {}
  },
  {
   "cell_type": "markdown",
   "source": [
    "The known optimal solution is \\$62,500"
   ],
   "metadata": {}
  },
  {
   "outputs": [],
   "cell_type": "code",
   "source": [
    "using SDDP, HiGHS, Test\n",
    "\n",
    "function air_conditioning_model(duality_handler)\n",
    "    model = SDDP.LinearPolicyGraph(\n",
    "        stages = 3,\n",
    "        lower_bound = 0.0,\n",
    "        optimizer = HiGHS.Optimizer,\n",
    "    ) do sp, stage\n",
    "        @variable(\n",
    "            sp,\n",
    "            0 <= stored_production <= 100,\n",
    "            Int,\n",
    "            SDDP.State,\n",
    "            initial_value = 0\n",
    "        )\n",
    "        @variable(sp, 0 <= production <= 200, Int)\n",
    "        @variable(sp, overtime >= 0, Int)\n",
    "        @variable(sp, demand)\n",
    "        DEMAND = [[100.0], [100.0, 300.0], [100.0, 300.0]]\n",
    "        SDDP.parameterize(ω -> JuMP.fix(demand, ω), sp, DEMAND[stage])\n",
    "        @constraint(\n",
    "            sp,\n",
    "            stored_production.out ==\n",
    "            stored_production.in + production + overtime - demand\n",
    "        )\n",
    "        @stageobjective(\n",
    "            sp,\n",
    "            100 * production + 300 * overtime + 50 * stored_production.out\n",
    "        )\n",
    "    end\n",
    "    SDDP.train(model; duality_handler = duality_handler)\n",
    "    @test isapprox(SDDP.calculate_bound(model), 62_500.0, atol = 0.1)\n",
    "    return\n",
    "end\n",
    "\n",
    "for duality_handler in [SDDP.LagrangianDuality(), SDDP.ContinuousConicDuality()]\n",
    "    air_conditioning_model(duality_handler)\n",
    "end"
   ],
   "metadata": {},
   "execution_count": null
  },
  {
   "cell_type": "markdown",
   "source": [
    "---\n",
    "\n",
    "*This notebook was generated using [Literate.jl](https://github.com/fredrikekre/Literate.jl).*"
   ],
   "metadata": {}
  }
 ],
 "nbformat_minor": 3,
 "metadata": {
  "language_info": {
   "file_extension": ".jl",
   "mimetype": "application/julia",
   "name": "julia",
   "version": "1.9.3"
  },
  "kernelspec": {
   "name": "julia-1.9",
   "display_name": "Julia 1.9.3",
   "language": "julia"
  }
 },
 "nbformat": 4
}
