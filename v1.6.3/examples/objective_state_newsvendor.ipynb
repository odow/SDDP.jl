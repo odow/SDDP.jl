{
 "cells": [
  {
   "cell_type": "markdown",
   "source": [
    "# Newsvendor"
   ],
   "metadata": {}
  },
  {
   "cell_type": "markdown",
   "source": [
    "This example is based on the classical newsvendor problem, but features an\n",
    "AR(1) spot-price.\n",
    "```\n",
    "   V(x[t-1], ω[t]) =         max p[t] × u[t]\n",
    "                      subject to x[t] = x[t-1] - u[t] + ω[t]\n",
    "                                 u[t] ∈ [0, 1]\n",
    "                                 x[t] ≥ 0\n",
    "                                 p[t] = p[t-1] + ϕ[t]\n",
    "```\n",
    "The initial conditions are\n",
    "```\n",
    "x[0] = 2.0\n",
    "p[0] = 1.5\n",
    "ω[t] ~ {0, 0.05, 0.10, ..., 0.45, 0.5} with uniform probability.\n",
    "ϕ[t] ~ {-0.25, -0.125, 0.125, 0.25} with uniform probability.\n",
    "```"
   ],
   "metadata": {}
  },
  {
   "outputs": [],
   "cell_type": "code",
   "source": [
    "using SDDP, HiGHS, Statistics, Test\n",
    "\n",
    "function joint_distribution(; kwargs...)\n",
    "    names = tuple([first(kw) for kw in kwargs]...)\n",
    "    values = tuple([last(kw) for kw in kwargs]...)\n",
    "    output_type = NamedTuple{names,Tuple{eltype.(values)...}}\n",
    "    distribution = map(output_type, Base.product(values...))\n",
    "    return distribution[:]\n",
    "end\n",
    "\n",
    "function newsvendor_example(; cut_type)\n",
    "    model = SDDP.PolicyGraph(\n",
    "        SDDP.LinearGraph(3),\n",
    "        sense = :Max,\n",
    "        upper_bound = 50.0,\n",
    "        optimizer = HiGHS.Optimizer,\n",
    "    ) do subproblem, stage\n",
    "        @variables(subproblem, begin\n",
    "            x >= 0, (SDDP.State, initial_value = 2)\n",
    "            0 <= u <= 1\n",
    "            w\n",
    "        end)\n",
    "        @constraint(subproblem, x.out == x.in - u + w)\n",
    "        SDDP.add_objective_state(\n",
    "            subproblem,\n",
    "            initial_value = 1.5,\n",
    "            lower_bound = 0.75,\n",
    "            upper_bound = 2.25,\n",
    "            lipschitz = 100.0,\n",
    "        ) do y, ω\n",
    "            return y + ω.price_noise\n",
    "        end\n",
    "        noise_terms = joint_distribution(\n",
    "            demand = 0:0.05:0.5,\n",
    "            price_noise = [-0.25, -0.125, 0.125, 0.25],\n",
    "        )\n",
    "        SDDP.parameterize(subproblem, noise_terms) do ω\n",
    "            JuMP.fix(w, ω.demand)\n",
    "            price = SDDP.objective_state(subproblem)\n",
    "            @stageobjective(subproblem, price * u)\n",
    "        end\n",
    "    end\n",
    "    SDDP.train(\n",
    "        model;\n",
    "        log_frequency = 10,\n",
    "        time_limit = 20.0,\n",
    "        cut_type = cut_type,\n",
    "    )\n",
    "    @test SDDP.calculate_bound(model) ≈ 4.04 atol = 0.05\n",
    "    results = SDDP.simulate(model, 500)\n",
    "    objectives =\n",
    "        [sum(s[:stage_objective] for s in simulation) for simulation in results]\n",
    "    @test round(Statistics.mean(objectives); digits = 2) ≈ 4.04 atol = 0.1\n",
    "    return\n",
    "end\n",
    "\n",
    "newsvendor_example(cut_type = SDDP.SINGLE_CUT)\n",
    "newsvendor_example(cut_type = SDDP.MULTI_CUT)"
   ],
   "metadata": {},
   "execution_count": null
  },
  {
   "cell_type": "markdown",
   "source": [
    "---\n",
    "\n",
    "*This notebook was generated using [Literate.jl](https://github.com/fredrikekre/Literate.jl).*"
   ],
   "metadata": {}
  }
 ],
 "nbformat_minor": 3,
 "metadata": {
  "language_info": {
   "file_extension": ".jl",
   "mimetype": "application/julia",
   "name": "julia",
   "version": "1.9.3"
  },
  "kernelspec": {
   "name": "julia-1.9",
   "display_name": "Julia 1.9.3",
   "language": "julia"
  }
 },
 "nbformat": 4
}
