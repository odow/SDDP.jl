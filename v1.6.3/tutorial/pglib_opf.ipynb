{
 "cells": [
  {
   "cell_type": "markdown",
   "source": [
    "# Alternative forward models"
   ],
   "metadata": {}
  },
  {
   "cell_type": "markdown",
   "source": [
    "This example demonstrates how to train convex and non-convex models."
   ],
   "metadata": {}
  },
  {
   "cell_type": "markdown",
   "source": [
    "This example uses the following packages:"
   ],
   "metadata": {}
  },
  {
   "outputs": [],
   "cell_type": "code",
   "source": [
    "using SDDP\n",
    "import Ipopt\n",
    "import PowerModels\n",
    "import Test"
   ],
   "metadata": {},
   "execution_count": null
  },
  {
   "cell_type": "markdown",
   "source": [
    "## Formulation"
   ],
   "metadata": {}
  },
  {
   "cell_type": "markdown",
   "source": [
    "For our model, we build a simple optimal power flow model with a single\n",
    "hydro-electric generator."
   ],
   "metadata": {}
  },
  {
   "cell_type": "markdown",
   "source": [
    "The formulation of our optimal power flow problem depends on `model_type`,\n",
    "which must be one of the `PowerModels` formulations."
   ],
   "metadata": {}
  },
  {
   "outputs": [],
   "cell_type": "code",
   "source": [
    "function build_model(model_type)\n",
    "    filename = joinpath(@__DIR__, \"pglib_opf_case5_pjm.m\")\n",
    "    data = PowerModels.parse_file(filename)\n",
    "    return SDDP.PolicyGraph(\n",
    "        SDDP.UnicyclicGraph(0.95);\n",
    "        sense = :Min,\n",
    "        lower_bound = 0.0,\n",
    "        optimizer = Ipopt.Optimizer,\n",
    "    ) do sp, t\n",
    "        power_model = PowerModels.instantiate_model(\n",
    "            data,\n",
    "            model_type,\n",
    "            PowerModels.build_opf;\n",
    "            jump_model = sp,\n",
    "        )\n",
    "        # Now add hydro power models. Assume that generator 5 is hydro, and the\n",
    "        # rest are thermal.\n",
    "        pg = power_model.var[:it][:pm][:nw][0][:pg][5]\n",
    "        sp[:pg] = pg\n",
    "        @variable(sp, x >= 0, SDDP.State, initial_value = 10.0)\n",
    "        @variable(sp, deficit >= 0)\n",
    "        @constraint(sp, balance, x.out == x.in - pg + deficit)\n",
    "        @stageobjective(sp, objective_function(sp) + 1e6 * deficit)\n",
    "        SDDP.parameterize(sp, [0, 2, 5]) do ω\n",
    "            return SDDP.set_normalized_rhs(balance, ω)\n",
    "        end\n",
    "        return\n",
    "    end\n",
    "end"
   ],
   "metadata": {},
   "execution_count": null
  },
  {
   "cell_type": "markdown",
   "source": [
    "## Training a convex model"
   ],
   "metadata": {}
  },
  {
   "cell_type": "markdown",
   "source": [
    "We can build and train a convex approximation of the optimal power flow\n",
    "problem."
   ],
   "metadata": {}
  },
  {
   "cell_type": "markdown",
   "source": [
    "The problem with the convex model is that it does not accurately simulate the\n",
    "true dynamics of the problem. Therefore, it under-estimates the true cost of\n",
    "operation."
   ],
   "metadata": {}
  },
  {
   "outputs": [],
   "cell_type": "code",
   "source": [
    "convex = build_model(PowerModels.DCPPowerModel)\n",
    "SDDP.train(convex; iteration_limit = 10)"
   ],
   "metadata": {},
   "execution_count": null
  },
  {
   "cell_type": "markdown",
   "source": [
    "To more accurately simulate the dynamics of the problem, a common approach is\n",
    "to write the cuts representing the policy to a file, and then read them into\n",
    "a non-convex model:"
   ],
   "metadata": {}
  },
  {
   "outputs": [],
   "cell_type": "code",
   "source": [
    "SDDP.write_cuts_to_file(convex, \"convex.cuts.json\")\n",
    "non_convex = build_model(PowerModels.ACPPowerModel)\n",
    "SDDP.read_cuts_from_file(non_convex, \"convex.cuts.json\")"
   ],
   "metadata": {},
   "execution_count": null
  },
  {
   "cell_type": "markdown",
   "source": [
    "Now we can simulate `non_convex` to evaluate the policy."
   ],
   "metadata": {}
  },
  {
   "outputs": [],
   "cell_type": "code",
   "source": [
    "result = SDDP.simulate(non_convex, 1)"
   ],
   "metadata": {},
   "execution_count": null
  },
  {
   "cell_type": "markdown",
   "source": [
    "A problem with reading and writing the cuts to file is that the cuts have been\n",
    "generated from trial points of the convex model. Therefore, the policy may be\n",
    "arbitrarily bad at points visited by the non-convex model."
   ],
   "metadata": {}
  },
  {
   "cell_type": "markdown",
   "source": [
    "## Training a non-convex model"
   ],
   "metadata": {}
  },
  {
   "cell_type": "markdown",
   "source": [
    "We can also build and train a non-convex formulation of the optimal power flow\n",
    "problem."
   ],
   "metadata": {}
  },
  {
   "cell_type": "markdown",
   "source": [
    "The problem with the non-convex model is that because it is non-convex,\n",
    "SDDP.jl may find a sub-optimal policy. Therefore, it may over-estimate the\n",
    "true cost of operation."
   ],
   "metadata": {}
  },
  {
   "outputs": [],
   "cell_type": "code",
   "source": [
    "non_convex = build_model(PowerModels.ACPPowerModel)\n",
    "SDDP.train(non_convex; iteration_limit = 10)\n",
    "result = SDDP.simulate(non_convex, 1)"
   ],
   "metadata": {},
   "execution_count": null
  },
  {
   "cell_type": "markdown",
   "source": [
    "## Combining convex and non-convex models"
   ],
   "metadata": {}
  },
  {
   "cell_type": "markdown",
   "source": [
    "To summarize, training with the convex model constructs cuts at points that\n",
    "may never be visited by the non-convex model, and training with the non-convex\n",
    "model may construct arbitrarily poor cuts because a key assumption of SDDP is\n",
    "convexity."
   ],
   "metadata": {}
  },
  {
   "cell_type": "markdown",
   "source": [
    "As a compromise, we can train a policy using a combination of the convex and\n",
    "non-convex models; we'll use the non-convex model to generate trial points on\n",
    "the forward pass, and we'll use the convex model to build cuts on the backward\n",
    "pass."
   ],
   "metadata": {}
  },
  {
   "outputs": [],
   "cell_type": "code",
   "source": [
    "convex = build_model(PowerModels.DCPPowerModel)"
   ],
   "metadata": {},
   "execution_count": null
  },
  {
   "outputs": [],
   "cell_type": "code",
   "source": [
    "non_convex = build_model(PowerModels.ACPPowerModel)"
   ],
   "metadata": {},
   "execution_count": null
  },
  {
   "cell_type": "markdown",
   "source": [
    "To do so, we train `convex` using the `SDDP.AlternativeForwardPass`\n",
    "forward pass, which simulates the model using `non_convex`, and we use\n",
    "`SDDP.AlternativePostIterationCallback` as a post-iteration callback,\n",
    "which copies cuts from the `convex` model back into the `non_convex` model."
   ],
   "metadata": {}
  },
  {
   "outputs": [],
   "cell_type": "code",
   "source": [
    "SDDP.train(\n",
    "    convex;\n",
    "    forward_pass = SDDP.AlternativeForwardPass(non_convex),\n",
    "    post_iteration_callback = SDDP.AlternativePostIterationCallback(non_convex),\n",
    "    iteration_limit = 10,\n",
    ")"
   ],
   "metadata": {},
   "execution_count": null
  },
  {
   "cell_type": "markdown",
   "source": [
    "In practice, if we were to simulate `non_convex` now, we should obtain a\n",
    "better policy than either of the two previous approaches."
   ],
   "metadata": {}
  },
  {
   "cell_type": "markdown",
   "source": [
    "---\n",
    "\n",
    "*This notebook was generated using [Literate.jl](https://github.com/fredrikekre/Literate.jl).*"
   ],
   "metadata": {}
  }
 ],
 "nbformat_minor": 3,
 "metadata": {
  "language_info": {
   "file_extension": ".jl",
   "mimetype": "application/julia",
   "name": "julia",
   "version": "1.9.3"
  },
  "kernelspec": {
   "name": "julia-1.9",
   "display_name": "Julia 1.9.3",
   "language": "julia"
  }
 },
 "nbformat": 4
}
