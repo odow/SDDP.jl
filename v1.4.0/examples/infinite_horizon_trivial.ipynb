{
 "cells": [
  {
   "cell_type": "markdown",
   "source": [
    "# Infinite horizon trivial"
   ],
   "metadata": {}
  },
  {
   "outputs": [],
   "cell_type": "code",
   "source": [
    "using SDDP, HiGHS, Test\n",
    "\n",
    "function infinite_trivial()\n",
    "    graph = SDDP.Graph(\n",
    "        :root_node,\n",
    "        [:week],\n",
    "        [(:root_node => :week, 1.0), (:week => :week, 0.9)],\n",
    "    )\n",
    "    model = SDDP.PolicyGraph(\n",
    "        graph,\n",
    "        lower_bound = 0.0,\n",
    "        optimizer = HiGHS.Optimizer,\n",
    "    ) do subproblem, node\n",
    "        @variable(subproblem, state, SDDP.State, initial_value = 0)\n",
    "        @constraint(subproblem, state.in == state.out)\n",
    "        @stageobjective(subproblem, 2.0)\n",
    "    end\n",
    "    SDDP.train(\n",
    "        model;\n",
    "        stopping_rules = [SDDP.SimulationStoppingRule()],\n",
    "        log_frequency = 10,\n",
    "    )\n",
    "    @test SDDP.calculate_bound(model) ≈ 2.0 / (1 - 0.9) atol = 1e-3\n",
    "    return\n",
    "end\n",
    "\n",
    "infinite_trivial()"
   ],
   "metadata": {},
   "execution_count": null
  },
  {
   "cell_type": "markdown",
   "source": [
    "---\n",
    "\n",
    "*This notebook was generated using [Literate.jl](https://github.com/fredrikekre/Literate.jl).*"
   ],
   "metadata": {}
  }
 ],
 "nbformat_minor": 3,
 "metadata": {
  "language_info": {
   "file_extension": ".jl",
   "mimetype": "application/julia",
   "name": "julia",
   "version": "1.8.5"
  },
  "kernelspec": {
   "name": "julia-1.8",
   "display_name": "Julia 1.8.5",
   "language": "julia"
  }
 },
 "nbformat": 4
}
