{
 "cells": [
  {
   "cell_type": "markdown",
   "source": [
    "# StructDualDynProg: Problem 5.2, 2 stages"
   ],
   "metadata": {}
  },
  {
   "cell_type": "markdown",
   "source": [
    "This example comes from [StochasticDualDynamicProgramming.jl](https://github.com/blegat/StochasticDualDynamicProgramming.jl/blob/fe5ef82db6befd7c8f11c023a639098ecb85737d/test/prob5.2_2stages.jl)"
   ],
   "metadata": {}
  },
  {
   "outputs": [],
   "cell_type": "code",
   "source": [
    "using SDDP, HiGHS, Test\n",
    "\n",
    "function test_prob52_2stages()\n",
    "    model = SDDP.LinearPolicyGraph(\n",
    "        stages = 2,\n",
    "        lower_bound = 0.0,\n",
    "        optimizer = HiGHS.Optimizer,\n",
    "        direct_mode = true,\n",
    "    ) do subproblem, stage\n",
    "        # ========== Problem data ==========\n",
    "        n = 4\n",
    "        m = 3\n",
    "        i_c = [16, 5, 32, 2]\n",
    "        C = [25, 80, 6.5, 160]\n",
    "        T = [8760, 7000, 1500] / 8760\n",
    "        D2 = [diff([0, 3919, 7329, 10315]) diff([0, 7086, 9004, 11169])]\n",
    "        p2 = [0.9, 0.1]\n",
    "        # ========== State Variables ==========\n",
    "        @variable(subproblem, x[i = 1:n] >= 0, SDDP.State, initial_value = 0.0)\n",
    "        # ========== Variables ==========\n",
    "        @variables(subproblem, begin\n",
    "            y[1:n, 1:m] >= 0\n",
    "            v[1:n] >= 0\n",
    "            penalty >= 0\n",
    "            rhs_noise[1:m]  # Dummy variable for RHS noise term.\n",
    "        end)\n",
    "        # ========== Constraints ==========\n",
    "        @constraints(\n",
    "            subproblem,\n",
    "            begin\n",
    "                [i = 1:n], x[i].out == x[i].in + v[i]\n",
    "                [i = 1:n], sum(y[i, :]) <= x[i].in\n",
    "                [j = 1:m], sum(y[:, j]) + penalty >= rhs_noise[j]\n",
    "            end\n",
    "        )\n",
    "        if stage == 2\n",
    "            # No investment in last stage.\n",
    "            @constraint(subproblem, sum(v) == 0)\n",
    "        end\n",
    "        # ========== Uncertainty ==========\n",
    "        if stage != 1 # no uncertainty in first stage\n",
    "            SDDP.parameterize(subproblem, 1:size(D2, 2), p2) do ω\n",
    "                for j in 1:m\n",
    "                    JuMP.fix(rhs_noise[j], D2[j, ω])\n",
    "                end\n",
    "            end\n",
    "        end\n",
    "        # ========== Stage objective ==========\n",
    "        @stageobjective(subproblem, i_c' * v + C' * y * T + 1e6 * penalty)\n",
    "        return\n",
    "    end\n",
    "    SDDP.train(\n",
    "        model;\n",
    "        stopping_rules = [SDDP.SimulationStoppingRule()],\n",
    "        log_frequency = 10,\n",
    "    )\n",
    "    @test SDDP.calculate_bound(model) ≈ 340315.52 atol = 0.1\n",
    "    return\n",
    "end\n",
    "\n",
    "test_prob52_2stages()"
   ],
   "metadata": {},
   "execution_count": null
  },
  {
   "cell_type": "markdown",
   "source": [
    "---\n",
    "\n",
    "*This notebook was generated using [Literate.jl](https://github.com/fredrikekre/Literate.jl).*"
   ],
   "metadata": {}
  }
 ],
 "nbformat_minor": 3,
 "metadata": {
  "language_info": {
   "file_extension": ".jl",
   "mimetype": "application/julia",
   "name": "julia",
   "version": "1.8.5"
  },
  "kernelspec": {
   "name": "julia-1.8",
   "display_name": "Julia 1.8.5",
   "language": "julia"
  }
 },
 "nbformat": 4
}
