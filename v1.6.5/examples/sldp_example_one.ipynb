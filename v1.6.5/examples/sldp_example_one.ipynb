{
 "cells": [
  {
   "cell_type": "markdown",
   "source": [
    "# SLDP: example 1"
   ],
   "metadata": {}
  },
  {
   "cell_type": "markdown",
   "source": [
    "This example is derived from Section 4.2 of the paper:\n",
    "Ahmed, S., Cabral, F. G., & da Costa, B. F. P. (2019). Stochastic Lipschitz\n",
    "Dynamic Programming. Optimization Online. [PDF](http://www.optimization-online.org/DB_FILE/2019/05/7193.pdf)"
   ],
   "metadata": {}
  },
  {
   "outputs": [],
   "cell_type": "code",
   "source": [
    "using SDDP, HiGHS, Test\n",
    "\n",
    "function sldp_example_one()\n",
    "    model = SDDP.LinearPolicyGraph(\n",
    "        stages = 8,\n",
    "        lower_bound = 0.0,\n",
    "        optimizer = HiGHS.Optimizer,\n",
    "    ) do sp, t\n",
    "        @variable(sp, x, SDDP.State, initial_value = 2.0)\n",
    "        @variables(sp, begin\n",
    "            x⁺ >= 0\n",
    "            x⁻ >= 0\n",
    "            0 <= u <= 1, Bin\n",
    "            ω\n",
    "        end)\n",
    "        @stageobjective(sp, 0.9^(t - 1) * (x⁺ + x⁻))\n",
    "        @constraints(sp, begin\n",
    "            x.out == x.in + 2 * u - 1 + ω\n",
    "            x⁺ >= x.out\n",
    "            x⁻ >= -x.out\n",
    "        end)\n",
    "        points = [\n",
    "            -0.3089653673606697,\n",
    "            -0.2718277412744214,\n",
    "            -0.09611178608243474,\n",
    "            0.24645863921577763,\n",
    "            0.5204224537256875,\n",
    "        ]\n",
    "        return SDDP.parameterize(φ -> JuMP.fix(ω, φ), sp, [points; -points])\n",
    "    end\n",
    "    SDDP.train(model; log_frequency = 10)\n",
    "    @test SDDP.calculate_bound(model) <= 1.1675\n",
    "    return\n",
    "end\n",
    "\n",
    "sldp_example_one()"
   ],
   "metadata": {},
   "execution_count": null
  }
 ],
 "nbformat_minor": 3,
 "metadata": {
  "language_info": {
   "file_extension": ".jl",
   "mimetype": "application/julia",
   "name": "julia",
   "version": "1.9.3"
  },
  "kernelspec": {
   "name": "julia-1.9",
   "display_name": "Julia 1.9.3",
   "language": "julia"
  }
 },
 "nbformat": 4
}
