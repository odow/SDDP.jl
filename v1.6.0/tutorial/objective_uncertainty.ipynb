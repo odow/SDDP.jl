{
 "cells": [
  {
   "cell_type": "markdown",
   "source": [
    "# Uncertainty in the objective function"
   ],
   "metadata": {}
  },
  {
   "cell_type": "markdown",
   "source": [
    "In the previous tutorial, An introduction to SDDP.jl, we created a\n",
    "stochastic hydro-thermal scheduling model. In this tutorial, we extend the\n",
    "problem by adding uncertainty to the fuel costs."
   ],
   "metadata": {}
  },
  {
   "cell_type": "markdown",
   "source": [
    "Previously, we assumed that the fuel cost was deterministic: \\$50/MWh in the\n",
    "first stage, \\$100/MWh in the second stage, and \\$150/MWh in the third\n",
    "stage. For this tutorial, we assume that in addition to these base costs, the\n",
    "actual fuel cost is correlated with the inflows."
   ],
   "metadata": {}
  },
  {
   "cell_type": "markdown",
   "source": [
    "Our new model for the uncertainty is given by the following table:\n",
    "\n",
    "| ω               |   1 |   2 |    3 |\n",
    "| ----            | --- | --- | ---- |\n",
    "| P(ω)            | 1/3 | 1/3 |  1/3 |\n",
    "| inflow          |   0 |  50 |  100 |\n",
    "| fuel multiplier | 1.5 | 1.0 | 0.75 |"
   ],
   "metadata": {}
  },
  {
   "cell_type": "markdown",
   "source": [
    "In stage `t`, the objective is now to minimize:\n",
    "\n",
    "`fuel_multiplier * fuel_cost[t] * thermal_generation`"
   ],
   "metadata": {}
  },
  {
   "cell_type": "markdown",
   "source": [
    "## Creating a model"
   ],
   "metadata": {}
  },
  {
   "cell_type": "markdown",
   "source": [
    "To add an uncertain objective, we can simply call `@stageobjective`\n",
    "from inside the `SDDP.parameterize` function."
   ],
   "metadata": {}
  },
  {
   "outputs": [],
   "cell_type": "code",
   "source": [
    "using SDDP, HiGHS\n",
    "\n",
    "model = SDDP.LinearPolicyGraph(\n",
    "    stages = 3,\n",
    "    sense = :Min,\n",
    "    lower_bound = 0.0,\n",
    "    optimizer = HiGHS.Optimizer,\n",
    ") do subproblem, t\n",
    "    # Define the state variable.\n",
    "    @variable(subproblem, 0 <= volume <= 200, SDDP.State, initial_value = 200)\n",
    "    # Define the control variables.\n",
    "    @variables(subproblem, begin\n",
    "        thermal_generation >= 0\n",
    "        hydro_generation >= 0\n",
    "        hydro_spill >= 0\n",
    "        inflow\n",
    "    end)\n",
    "    # Define the constraints\n",
    "    @constraints(\n",
    "        subproblem,\n",
    "        begin\n",
    "            volume.out == volume.in + inflow - hydro_generation - hydro_spill\n",
    "            thermal_generation + hydro_generation == 150.0\n",
    "        end\n",
    "    )\n",
    "    fuel_cost = [50.0, 100.0, 150.0]\n",
    "    # Parameterize the subproblem.\n",
    "    Ω = [\n",
    "        (inflow = 0.0, fuel_multiplier = 1.5),\n",
    "        (inflow = 50.0, fuel_multiplier = 1.0),\n",
    "        (inflow = 100.0, fuel_multiplier = 0.75),\n",
    "    ]\n",
    "    SDDP.parameterize(subproblem, Ω, [1 / 3, 1 / 3, 1 / 3]) do ω\n",
    "        JuMP.fix(inflow, ω.inflow)\n",
    "        @stageobjective(\n",
    "            subproblem,\n",
    "            ω.fuel_multiplier * fuel_cost[t] * thermal_generation\n",
    "        )\n",
    "    end\n",
    "end"
   ],
   "metadata": {},
   "execution_count": null
  },
  {
   "cell_type": "markdown",
   "source": [
    "## Training and simulating the policy"
   ],
   "metadata": {}
  },
  {
   "cell_type": "markdown",
   "source": [
    "As in the previous two tutorials, we train and simulate the policy:"
   ],
   "metadata": {}
  },
  {
   "outputs": [],
   "cell_type": "code",
   "source": [
    "SDDP.train(model)\n",
    "\n",
    "simulations = SDDP.simulate(model, 500)\n",
    "\n",
    "objective_values =\n",
    "    [sum(stage[:stage_objective] for stage in sim) for sim in simulations]\n",
    "\n",
    "using Statistics\n",
    "\n",
    "μ = round(mean(objective_values), digits = 2)\n",
    "ci = round(1.96 * std(objective_values) / sqrt(500), digits = 2)\n",
    "\n",
    "println(\"Confidence interval: \", μ, \" ± \", ci)\n",
    "println(\"Lower bound: \", round(SDDP.calculate_bound(model), digits = 2))"
   ],
   "metadata": {},
   "execution_count": null
  },
  {
   "cell_type": "markdown",
   "source": [
    "---\n",
    "\n",
    "*This notebook was generated using [Literate.jl](https://github.com/fredrikekre/Literate.jl).*"
   ],
   "metadata": {}
  }
 ],
 "nbformat_minor": 3,
 "metadata": {
  "language_info": {
   "file_extension": ".jl",
   "mimetype": "application/julia",
   "name": "julia",
   "version": "1.9.1"
  },
  "kernelspec": {
   "name": "julia-1.9",
   "display_name": "Julia 1.9.1",
   "language": "julia"
  }
 },
 "nbformat": 4
}
