{
 "cells": [
  {
   "cell_type": "markdown",
   "source": [
    "# StochDynamicProgramming: the stock problem"
   ],
   "metadata": {}
  },
  {
   "cell_type": "markdown",
   "source": [
    "This example comes from [StochDynamicProgramming.jl](https://github.com/JuliaOpt/StochDynamicProgramming.jl/tree/f68b9da541c2f811ce24fc76f6065803a0715c2f/examples/stock-example.jl)."
   ],
   "metadata": {}
  },
  {
   "outputs": [],
   "cell_type": "code",
   "source": [
    "using SDDP, HiGHS, Test\n",
    "\n",
    "function stock_example()\n",
    "    model = SDDP.PolicyGraph(\n",
    "        SDDP.LinearGraph(5),\n",
    "        lower_bound = -2,\n",
    "        optimizer = HiGHS.Optimizer,\n",
    "    ) do sp, stage\n",
    "        @variable(sp, 0 <= state <= 1, SDDP.State, initial_value = 0.5)\n",
    "        @variable(sp, 0 <= control <= 0.5)\n",
    "        @variable(sp, ξ)\n",
    "        @constraint(sp, state.out == state.in - control + ξ)\n",
    "        SDDP.parameterize(sp, 0.0:1/30:0.3) do ω\n",
    "            return JuMP.fix(ξ, ω)\n",
    "        end\n",
    "        @stageobjective(sp, (sin(3 * stage) - 1) * control)\n",
    "    end\n",
    "    SDDP.train(model; log_frequency = 10)\n",
    "    @test SDDP.calculate_bound(model) ≈ -1.471 atol = 0.001\n",
    "    simulation_results = SDDP.simulate(model, 1_000)\n",
    "    @test length(simulation_results) == 1_000\n",
    "    μ = SDDP.Statistics.mean(\n",
    "        sum(data[:stage_objective] for data in simulation) for\n",
    "        simulation in simulation_results\n",
    "    )\n",
    "    @test μ ≈ -1.471 atol = 0.05\n",
    "    return\n",
    "end\n",
    "\n",
    "stock_example()"
   ],
   "metadata": {},
   "execution_count": null
  },
  {
   "cell_type": "markdown",
   "source": [
    "---\n",
    "\n",
    "*This notebook was generated using [Literate.jl](https://github.com/fredrikekre/Literate.jl).*"
   ],
   "metadata": {}
  }
 ],
 "nbformat_minor": 3,
 "metadata": {
  "language_info": {
   "file_extension": ".jl",
   "mimetype": "application/julia",
   "name": "julia",
   "version": "1.9.1"
  },
  "kernelspec": {
   "name": "julia-1.9",
   "display_name": "Julia 1.9.1",
   "language": "julia"
  }
 },
 "nbformat": 4
}
