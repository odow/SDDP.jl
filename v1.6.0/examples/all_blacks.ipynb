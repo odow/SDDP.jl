{
 "cells": [
  {
   "cell_type": "markdown",
   "source": [
    "# Deterministic All Blacks"
   ],
   "metadata": {}
  },
  {
   "outputs": [],
   "cell_type": "code",
   "source": [
    "using SDDP, HiGHS, Test\n",
    "\n",
    "function all_blacks()\n",
    "    # Number of time periods, number of seats, R_ij = revenue from selling seat\n",
    "    # i at time j, offer_ij = whether an offer for seat i will come at time j\n",
    "    (T, N, R, offer) = (3, 2, [3 3 6; 3 3 6], [1 1 0; 1 0 1])\n",
    "    model = SDDP.LinearPolicyGraph(\n",
    "        stages = T,\n",
    "        sense = :Max,\n",
    "        upper_bound = 100.0,\n",
    "        optimizer = HiGHS.Optimizer,\n",
    "    ) do sp, stage\n",
    "        # Seat remaining?\n",
    "        @variable(sp, 0 <= x[1:N] <= 1, SDDP.State, Bin, initial_value = 1)\n",
    "        # Action: accept offer, or don't accept offer\n",
    "        @variable(sp, accept_offer, Bin)\n",
    "        # Balance on seats\n",
    "        @constraint(\n",
    "            sp,\n",
    "            [i in 1:N],\n",
    "            x[i].out == x[i].in - offer[i, stage] * accept_offer\n",
    "        )\n",
    "        @stageobjective(\n",
    "            sp,\n",
    "            sum(R[i, stage] * offer[i, stage] * accept_offer for i in 1:N)\n",
    "        )\n",
    "    end\n",
    "    SDDP.train(model; duality_handler = SDDP.LagrangianDuality())\n",
    "    @test SDDP.calculate_bound(model) ≈ 9.0\n",
    "    return\n",
    "end\n",
    "\n",
    "all_blacks()"
   ],
   "metadata": {},
   "execution_count": null
  },
  {
   "cell_type": "markdown",
   "source": [
    "---\n",
    "\n",
    "*This notebook was generated using [Literate.jl](https://github.com/fredrikekre/Literate.jl).*"
   ],
   "metadata": {}
  }
 ],
 "nbformat_minor": 3,
 "metadata": {
  "language_info": {
   "file_extension": ".jl",
   "mimetype": "application/julia",
   "name": "julia",
   "version": "1.9.1"
  },
  "kernelspec": {
   "name": "julia-1.9",
   "display_name": "Julia 1.9.1",
   "language": "julia"
  }
 },
 "nbformat": 4
}
