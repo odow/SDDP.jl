{
 "cells": [
  {
   "cell_type": "markdown",
   "source": [
    "# Example: batteries"
   ],
   "metadata": {}
  },
  {
   "cell_type": "markdown",
   "source": [
    "The purpose of this tutorial is to demonstrate how to model the operation of a\n",
    "battery in power system with uncertain load."
   ],
   "metadata": {}
  },
  {
   "cell_type": "markdown",
   "source": [
    "This example was originally developed by Andy Philpott as part of the\n",
    "Winter School Kvitfjell 2025, _Planning Under Uncertainty in Energy Markets_,\n",
    "organized by NORDAB - The Norwegian Doctoral Academy in Business."
   ],
   "metadata": {}
  },
  {
   "cell_type": "markdown",
   "source": [
    "## Packages"
   ],
   "metadata": {}
  },
  {
   "cell_type": "markdown",
   "source": [
    "This tutorial requires the following packages:"
   ],
   "metadata": {}
  },
  {
   "outputs": [],
   "cell_type": "code",
   "source": [
    "using SDDP\n",
    "import HiGHS\n",
    "import Plots"
   ],
   "metadata": {},
   "execution_count": null
  },
  {
   "cell_type": "markdown",
   "source": [
    "## The model"
   ],
   "metadata": {}
  },
  {
   "cell_type": "markdown",
   "source": [
    "Our model is a day in the life of a simple power system with one thermal\n",
    "generator and one battery. There are 24 hourly stages that form a linear\n",
    "policy graph."
   ],
   "metadata": {}
  },
  {
   "cell_type": "markdown",
   "source": [
    "There are two state variables: `x_soc`, the state-of-charge of the battery;\n",
    "and `x_thermal`, the output of the thermal generator."
   ],
   "metadata": {}
  },
  {
   "cell_type": "markdown",
   "source": [
    "There are four control variables: `u_charge` and `u_discharge` for charging\n",
    "and discharging the battery in each stage, and `u_slack` and `u_surplus` for\n",
    "measuring the slack and surplus energy generation."
   ],
   "metadata": {}
  },
  {
   "cell_type": "markdown",
   "source": [
    "There is one random variable: `w_load`, which is the energy load of the system\n",
    "in each stage."
   ],
   "metadata": {}
  },
  {
   "cell_type": "markdown",
   "source": [
    "The objective is to minimize cost, which is comprised of the cost of thermal\n",
    "generation and the value of lost-load (`u_slack`)."
   ],
   "metadata": {}
  },
  {
   "cell_type": "markdown",
   "source": [
    "There are three constraints: a balance on the state-of-charge of the battery,\n",
    "which accounts for charging inefficiency; ramping limits on the thermal\n",
    "generator; and an energy balance constraint on the energy produced."
   ],
   "metadata": {}
  },
  {
   "cell_type": "markdown",
   "source": [
    "Here's the model in SDDP.jl:"
   ],
   "metadata": {}
  },
  {
   "outputs": [],
   "cell_type": "code",
   "source": [
    "model = SDDP.LinearPolicyGraph(;\n",
    "    stages = 24,\n",
    "    sense = :Min,\n",
    "    lower_bound = 0.0,\n",
    "    optimizer = HiGHS.Optimizer,\n",
    ") do sp, t\n",
    "    # State variables\n",
    "    @variable(sp, 0 <= x_soc <= 30, SDDP.State, initial_value = 4)\n",
    "    @variable(sp, 0 <= x_thermal <= 70, SDDP.State, initial_value = 35)\n",
    "    # Control variables\n",
    "    @variable(sp, 0 <= u_charge <= 15)\n",
    "    @variable(sp, 0 <= u_discharge <= 15)\n",
    "    @variable(sp, u_slack >= 0)\n",
    "    @variable(sp, u_surplus >= 0)\n",
    "    # Random variables\n",
    "    @variable(sp, w_load)\n",
    "    Ω = [-4.0, -2.0, 0.0, 2.0, 4.0]\n",
    "    d = vcat(\n",
    "        [40, 41, 42, 43, 35, 40, 40, 25, 10, 8, 6, 5],  # Hours 01-12\n",
    "        [5, 6, 8, 10, 20, 30, 55, 72, 75, 70, 64, 60],  # Hours 13-24\n",
    "    )\n",
    "    SDDP.parameterize(ω -> JuMP.fix(w_load, d[t] + ω), sp, Ω)\n",
    "    # Objective function\n",
    "    @stageobjective(sp, 70 * x_thermal.out + 500 * u_slack)\n",
    "    # Constraints\n",
    "    @constraint(sp, x_soc.out == x_soc.in + 0.8 * u_charge - u_discharge)\n",
    "    @constraint(sp, x_thermal.out - x_thermal.in <= 10)\n",
    "    @constraint(\n",
    "        sp,\n",
    "        λ,\n",
    "        x_thermal.out + u_discharge - u_charge + u_slack == w_load + u_surplus,\n",
    "    )\n",
    "    return\n",
    "end"
   ],
   "metadata": {},
   "execution_count": null
  },
  {
   "cell_type": "markdown",
   "source": [
    "## Training"
   ],
   "metadata": {}
  },
  {
   "cell_type": "markdown",
   "source": [
    "We train the model for 500 iterations using the `SDDP.Threaded`\n",
    "parallel scheme."
   ],
   "metadata": {}
  },
  {
   "outputs": [],
   "cell_type": "code",
   "source": [
    "SDDP.train(model; iteration_limit = 500, parallel_scheme = SDDP.Threaded())\n",
    "\n",
    "results = SDDP.simulate(\n",
    "    model,\n",
    "    100,\n",
    "    [:x_soc, :x_thermal, :u_slack, :w_load];\n",
    "    custom_recorders = Dict{Symbol,Function}(:λ => sp -> JuMP.dual(sp[:λ])),\n",
    ");"
   ],
   "metadata": {},
   "execution_count": null
  },
  {
   "cell_type": "markdown",
   "source": [
    "## Analyzing the solution"
   ],
   "metadata": {}
  },
  {
   "cell_type": "markdown",
   "source": [
    "The load follows the classic \"duck curve\". There are two defining features:\n",
    "large amounts of solar during the middle of the day reduce the net load to\n",
    "form the belly of the duck, and the drop in solar combined with high gross\n",
    "load in the evening forms a steep ramp along the neck of the duck."
   ],
   "metadata": {}
  },
  {
   "outputs": [],
   "cell_type": "code",
   "source": [
    "SDDP.publication_plot(results; xlabel = \"Hour\", ylabel = \"Net load\") do d\n",
    "    return d[:w_load]\n",
    "end"
   ],
   "metadata": {},
   "execution_count": null
  },
  {
   "cell_type": "markdown",
   "source": [
    "Thermal generation mostly follows net load, except the thermal generation is\n",
    "limited by the ramp up constraints during the afternoon as the generator\n",
    "increases to reach maximum production during the 21 hour:"
   ],
   "metadata": {}
  },
  {
   "outputs": [],
   "cell_type": "code",
   "source": [
    "SDDP.publication_plot(\n",
    "    results;\n",
    "    xlabel = \"Hour\",\n",
    "    ylabel = \"Thermal generation\",\n",
    ") do d\n",
    "    return d[:x_thermal].out\n",
    "end"
   ],
   "metadata": {},
   "execution_count": null
  },
  {
   "cell_type": "markdown",
   "source": [
    "The battery starts with 4 units of charge, empties it during the 10th hour,\n",
    "charges during the afternoon, and then discharges during the evening peak.\n",
    "Because we have modeled a finite horizon problem with no terminal value\n",
    "function, the battery ends the 24th hour with an empty state of charge."
   ],
   "metadata": {}
  },
  {
   "outputs": [],
   "cell_type": "code",
   "source": [
    "SDDP.publication_plot(results; xlabel = \"Hour\", ylabel = \"State of charge\") do d\n",
    "    return d[:x_soc].out\n",
    "end"
   ],
   "metadata": {},
   "execution_count": null
  },
  {
   "cell_type": "markdown",
   "source": [
    "The batteries charging decisions are driven by the dual value of the\n",
    "`demand_constraint` which can be interpreted as the price of energy. During\n",
    "the first part of the day, the price of energy is \\$70/unit, which is the\n",
    "fuel price of the thermal generator. During the afternoon, the price\n",
    "decreases below the fuel price, and the battery arbitrages this difference by\n",
    "charging. The peak price is incurred during the evening, when the price\n",
    "sometimes spikes to \\$500/unit, which is the value of lost load (VOLL)."
   ],
   "metadata": {}
  },
  {
   "outputs": [],
   "cell_type": "code",
   "source": [
    "SDDP.publication_plot(results; xlabel = \"Hour\", ylabel = \"Dual λ\") do d\n",
    "    return d[:λ]\n",
    "end"
   ],
   "metadata": {},
   "execution_count": null
  },
  {
   "cell_type": "markdown",
   "source": [
    "The `u_slack` variable is the lost load:"
   ],
   "metadata": {}
  },
  {
   "outputs": [],
   "cell_type": "code",
   "source": [
    "SDDP.publication_plot(results; xlabel = \"Hour\", ylabel = \"Lost load\") do d\n",
    "    return d[:u_slack]\n",
    "end"
   ],
   "metadata": {},
   "execution_count": null
  },
  {
   "cell_type": "markdown",
   "source": [
    "## Next steps"
   ],
   "metadata": {}
  },
  {
   "cell_type": "markdown",
   "source": [
    "Can you use the information in the previous plots to explain why the energy\n",
    "price falls below the fuel cost?"
   ],
   "metadata": {}
  }
 ],
 "nbformat_minor": 3,
 "metadata": {
  "language_info": {
   "file_extension": ".jl",
   "mimetype": "application/julia",
   "name": "julia",
   "version": "1.11.5"
  },
  "kernelspec": {
   "name": "julia-1.11",
   "display_name": "Julia 1.11.5",
   "language": "julia"
  }
 },
 "nbformat": 4
}
