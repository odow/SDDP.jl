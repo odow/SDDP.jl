{
 "cells": [
  {
   "cell_type": "markdown",
   "source": [
    "# Plotting tools"
   ],
   "metadata": {}
  },
  {
   "cell_type": "markdown",
   "source": [
    "In our previous tutorials, we formulated, solved, and simulated multistage\n",
    "stochastic optimization problems. However, we haven't really investigated what\n",
    "the solution looks like. Luckily, `SDDP.jl` includes a number of plotting\n",
    "tools to help us do that. In this tutorial, we explain the tools and make some\n",
    "pretty pictures."
   ],
   "metadata": {}
  },
  {
   "cell_type": "markdown",
   "source": [
    "## Preliminaries"
   ],
   "metadata": {}
  },
  {
   "cell_type": "markdown",
   "source": [
    "The next two plot types help visualize the policy. Thus, we first need to\n",
    "create a policy and simulate some trajectories. So, let's take the model from\n",
    "Markovian policy graphs, train it for 20 iterations, and then\n",
    "simulate 100 Monte Carlo realizations of the policy."
   ],
   "metadata": {}
  },
  {
   "outputs": [],
   "cell_type": "code",
   "source": [
    "using SDDP, HiGHS\n",
    "\n",
    "Ω = [\n",
    "    (inflow = 0.0, fuel_multiplier = 1.5),\n",
    "    (inflow = 50.0, fuel_multiplier = 1.0),\n",
    "    (inflow = 100.0, fuel_multiplier = 0.75),\n",
    "]\n",
    "\n",
    "model = SDDP.MarkovianPolicyGraph(\n",
    "    transition_matrices = Array{Float64,2}[\n",
    "        [1.0]',\n",
    "        [0.75 0.25],\n",
    "        [0.75 0.25; 0.25 0.75],\n",
    "    ],\n",
    "    sense = :Min,\n",
    "    lower_bound = 0.0,\n",
    "    optimizer = HiGHS.Optimizer,\n",
    ") do subproblem, node\n",
    "    t, markov_state = node\n",
    "    @variable(subproblem, 0 <= volume <= 200, SDDP.State, initial_value = 200)\n",
    "    @variables(subproblem, begin\n",
    "        thermal_generation >= 0\n",
    "        hydro_generation >= 0\n",
    "        hydro_spill >= 0\n",
    "        inflow\n",
    "    end)\n",
    "    @constraints(\n",
    "        subproblem,\n",
    "        begin\n",
    "            volume.out == volume.in + inflow - hydro_generation - hydro_spill\n",
    "            thermal_generation + hydro_generation == 150.0\n",
    "        end\n",
    "    )\n",
    "    probability =\n",
    "        markov_state == 1 ? [1 / 6, 1 / 3, 1 / 2] : [1 / 2, 1 / 3, 1 / 6]\n",
    "    fuel_cost = [50.0, 100.0, 150.0]\n",
    "    SDDP.parameterize(subproblem, Ω, probability) do ω\n",
    "        JuMP.fix(inflow, ω.inflow)\n",
    "        @stageobjective(\n",
    "            subproblem,\n",
    "            ω.fuel_multiplier * fuel_cost[t] * thermal_generation\n",
    "        )\n",
    "    end\n",
    "end\n",
    "\n",
    "SDDP.train(model, iteration_limit = 20, run_numerical_stability_report = false)\n",
    "\n",
    "simulations = SDDP.simulate(\n",
    "    model,\n",
    "    100,\n",
    "    [:volume, :thermal_generation, :hydro_generation, :hydro_spill],\n",
    ")\n",
    "\n",
    "println(\"Completed $(length(simulations)) simulations.\")"
   ],
   "metadata": {},
   "execution_count": null
  },
  {
   "cell_type": "markdown",
   "source": [
    "Great! Now we have some data in `simulations` to visualize."
   ],
   "metadata": {}
  },
  {
   "cell_type": "markdown",
   "source": [
    "## Spaghetti plots"
   ],
   "metadata": {}
  },
  {
   "cell_type": "markdown",
   "source": [
    "The first plotting utility we discuss is a _spaghetti_ plot (you'll understand\n",
    "the name when you see the graph)."
   ],
   "metadata": {}
  },
  {
   "cell_type": "markdown",
   "source": [
    "To create a spaghetti plot, begin by creating a new\n",
    "`SDDP.SpaghettiPlot` instance as follows:"
   ],
   "metadata": {}
  },
  {
   "outputs": [],
   "cell_type": "code",
   "source": [
    "plt = SDDP.SpaghettiPlot(simulations)"
   ],
   "metadata": {},
   "execution_count": null
  },
  {
   "cell_type": "markdown",
   "source": [
    "We can add plots to `plt` using the `SDDP.add_spaghetti` function."
   ],
   "metadata": {}
  },
  {
   "outputs": [],
   "cell_type": "code",
   "source": [
    "SDDP.add_spaghetti(plt; title = \"Reservoir volume\") do data\n",
    "    return data[:volume].out\n",
    "end"
   ],
   "metadata": {},
   "execution_count": null
  },
  {
   "cell_type": "markdown",
   "source": [
    "In addition to returning values from the simulation, you can compute things:"
   ],
   "metadata": {}
  },
  {
   "outputs": [],
   "cell_type": "code",
   "source": [
    "SDDP.add_spaghetti(plt; title = \"Fuel cost\", ymin = 0, ymax = 250) do data\n",
    "    if data[:thermal_generation] > 0\n",
    "        return data[:stage_objective] / data[:thermal_generation]\n",
    "    else  # No thermal generation, so return 0.0.\n",
    "        return 0.0\n",
    "    end\n",
    "end"
   ],
   "metadata": {},
   "execution_count": null
  },
  {
   "cell_type": "markdown",
   "source": [
    "Note that there are many keyword arguments in addition to `title`. For\n",
    "example, we fixed the minimum and maximum values of the y-axis using `ymin`\n",
    "and `ymax`. See the `SDDP.add_spaghetti` documentation for all the\n",
    "arguments."
   ],
   "metadata": {}
  },
  {
   "cell_type": "markdown",
   "source": [
    "Having built the plot, we now need to display it using `SDDP.plot`."
   ],
   "metadata": {}
  },
  {
   "cell_type": "markdown",
   "source": [
    "```julia\n",
    "SDDP.plot(plt, \"spaghetti_plot.html\")\n",
    "```\n",
    "\n",
    "```@raw html\n",
    "<embed type=\"text/html\" src=\"../../assets/spaghetti_plot.html\" width=\"100%\">\n",
    "```\n",
    "\n",
    "This should open a webpage that looks like [this one](../assets/spaghetti_plot.html)."
   ],
   "metadata": {}
  },
  {
   "cell_type": "markdown",
   "source": [
    "Using the mouse, you can highlight individual trajectories by hovering over\n",
    "them. This makes it possible to visualize a single trajectory across multiple\n",
    "dimensions."
   ],
   "metadata": {}
  },
  {
   "cell_type": "markdown",
   "source": [
    "If you click on the plot, then trajectories that are close to the mouse\n",
    "pointer are shown darker and those further away are shown lighter."
   ],
   "metadata": {}
  },
  {
   "cell_type": "markdown",
   "source": [
    "## Publication plots"
   ],
   "metadata": {}
  },
  {
   "cell_type": "markdown",
   "source": [
    "Instead of the interactive Javascript plots, you can also create some\n",
    "publication ready plots using the `SDDP.publication_plot` function."
   ],
   "metadata": {}
  },
  {
   "cell_type": "markdown",
   "source": [
    "!!! info\n",
    "    You need to install the [Plots.jl](https://github.com/JuliaPlots/Plots)\n",
    "    package for this to work. We used the `GR` backend (`gr()`), but any\n",
    "    `Plots.jl` backend should work."
   ],
   "metadata": {}
  },
  {
   "cell_type": "markdown",
   "source": [
    "`SDDP.publication_plot` implements a plot recipe to create ribbon\n",
    "plots of each variable against the stages. The first argument is the vector of\n",
    "simulation dictionaries and the second argument is the dictionary key that you\n",
    "want to plot. Standard `Plots.jl` keyword arguments such as `title` and `xlabel`\n",
    "can be used to modify the look of each plot. By default, the plot displays\n",
    "ribbons of the 0-100, 10-90, and 25-75 percentiles. The dark, solid line in the\n",
    "middle is the median (i.e. 50'th percentile)."
   ],
   "metadata": {}
  },
  {
   "outputs": [],
   "cell_type": "code",
   "source": [
    "import Plots\n",
    "Plots.plot(\n",
    "    SDDP.publication_plot(simulations, title = \"Outgoing volume\") do data\n",
    "        return data[:volume].out\n",
    "    end,\n",
    "    SDDP.publication_plot(simulations, title = \"Thermal generation\") do data\n",
    "        return data[:thermal_generation]\n",
    "    end;\n",
    "    xlabel = \"Stage\",\n",
    "    ylims = (0, 200),\n",
    "    layout = (1, 2),\n",
    ")"
   ],
   "metadata": {},
   "execution_count": null
  },
  {
   "cell_type": "markdown",
   "source": [
    "You can save this plot as a PDF using the `Plots.jl` function `savefig`:\n",
    "```julia\n",
    "Plots.savefig(\"my_picture.pdf\")\n",
    "```"
   ],
   "metadata": {}
  },
  {
   "cell_type": "markdown",
   "source": [
    "## Plotting the value function"
   ],
   "metadata": {}
  },
  {
   "cell_type": "markdown",
   "source": [
    "You can obtain an object representing the value function of a node using\n",
    "`SDDP.ValueFunction`."
   ],
   "metadata": {}
  },
  {
   "outputs": [],
   "cell_type": "code",
   "source": [
    "V = SDDP.ValueFunction(model[(1, 1)])"
   ],
   "metadata": {},
   "execution_count": null
  },
  {
   "cell_type": "markdown",
   "source": [
    "The value function can be evaluated using `SDDP.evaluate`."
   ],
   "metadata": {}
  },
  {
   "outputs": [],
   "cell_type": "code",
   "source": [
    "SDDP.evaluate(V; volume = 1)"
   ],
   "metadata": {},
   "execution_count": null
  },
  {
   "cell_type": "markdown",
   "source": [
    "`evaluate` returns the height of the value function, and a subgradient with respect to the\n",
    "convex state variables."
   ],
   "metadata": {}
  },
  {
   "cell_type": "markdown",
   "source": [
    "You can also plot the value function using `SDDP.plot`\n",
    "```julia\n",
    "SDDP.plot(V, volume = 0:200, filename = \"value_function.html\")\n",
    "```\n",
    "\n",
    "```@raw html\n",
    "<embed type=\"text/html\" src=\"../../assets/value_function.html\" width=\"100%\">\n",
    "```\n",
    "\n",
    "This should open a webpage that looks like [this one](../assets/value_function.html)."
   ],
   "metadata": {}
  },
  {
   "cell_type": "markdown",
   "source": [
    "## Convergence dashboard"
   ],
   "metadata": {}
  },
  {
   "cell_type": "markdown",
   "source": [
    "If the text-based logging isn't to your liking, you can open a visualization of\n",
    "the training by passing  `dashboard = true` to `SDDP.train`.\n",
    "```julia\n",
    "SDDP.train(model; dashboard = true)\n",
    "```\n",
    "By default, `dashboard = false` because there is an initial overhead\n",
    "associated with opening and preparing the plot."
   ],
   "metadata": {}
  },
  {
   "cell_type": "markdown",
   "source": [
    "!!! warning\n",
    "    The dashboard is experimental. There are known bugs associated with it,\n",
    "    e.g., [SDDP.jl#226](https://github.com/odow/SDDP.jl/issues/226)."
   ],
   "metadata": {}
  },
  {
   "cell_type": "markdown",
   "source": [
    "---\n",
    "\n",
    "*This notebook was generated using [Literate.jl](https://github.com/fredrikekre/Literate.jl).*"
   ],
   "metadata": {}
  }
 ],
 "nbformat_minor": 3,
 "metadata": {
  "language_info": {
   "file_extension": ".jl",
   "mimetype": "application/julia",
   "name": "julia",
   "version": "1.9.3"
  },
  "kernelspec": {
   "name": "julia-1.9",
   "display_name": "Julia 1.9.3",
   "language": "julia"
  }
 },
 "nbformat": 4
}
