{
 "cells": [
  {
   "cell_type": "markdown",
   "source": [
    "# FAST: the hydro-thermal problem"
   ],
   "metadata": {}
  },
  {
   "cell_type": "markdown",
   "source": [
    "An implementation of the Hydro-thermal example from [FAST](https://github.com/leopoldcambier/FAST/tree/daea3d80a5ebb2c52f78670e34db56d53ca2e778/examples/hydro%20thermal)"
   ],
   "metadata": {}
  },
  {
   "outputs": [],
   "cell_type": "code",
   "source": [
    "using SDDP, HiGHS, Test\n",
    "\n",
    "function fast_hydro_thermal()\n",
    "    model = SDDP.LinearPolicyGraph(;\n",
    "        stages = 2,\n",
    "        upper_bound = 0.0,\n",
    "        sense = :Max,\n",
    "        optimizer = HiGHS.Optimizer,\n",
    "    ) do sp, t\n",
    "        @variable(sp, 0 <= x <= 8, SDDP.State, initial_value = 0.0)\n",
    "        @variables(sp, begin\n",
    "            y >= 0\n",
    "            p >= 0\n",
    "            ξ\n",
    "        end)\n",
    "        @constraints(sp, begin\n",
    "            p + y >= 6\n",
    "            x.out <= x.in - y + ξ\n",
    "        end)\n",
    "        RAINFALL = (t == 1 ? [6] : [2, 10])\n",
    "        SDDP.parameterize(sp, RAINFALL) do ω\n",
    "            return JuMP.fix(ξ, ω)\n",
    "        end\n",
    "        @stageobjective(sp, -5 * p)\n",
    "    end\n",
    "\n",
    "    det = SDDP.deterministic_equivalent(model, HiGHS.Optimizer)\n",
    "    set_silent(det)\n",
    "    JuMP.optimize!(det)\n",
    "    @test JuMP.objective_sense(det) == MOI.MAX_SENSE\n",
    "    @test JuMP.objective_value(det) == -10\n",
    "    SDDP.train(model)\n",
    "    @test SDDP.calculate_bound(model) == -10\n",
    "    return\n",
    "end\n",
    "\n",
    "fast_hydro_thermal()"
   ],
   "metadata": {},
   "execution_count": null
  },
  {
   "cell_type": "markdown",
   "source": [
    "---\n",
    "\n",
    "*This notebook was generated using [Literate.jl](https://github.com/fredrikekre/Literate.jl).*"
   ],
   "metadata": {}
  }
 ],
 "nbformat_minor": 3,
 "metadata": {
  "language_info": {
   "file_extension": ".jl",
   "mimetype": "application/julia",
   "name": "julia",
   "version": "1.9.3"
  },
  "kernelspec": {
   "name": "julia-1.9",
   "display_name": "Julia 1.9.3",
   "language": "julia"
  }
 },
 "nbformat": 4
}
