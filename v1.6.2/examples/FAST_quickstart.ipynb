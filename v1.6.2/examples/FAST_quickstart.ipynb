{
 "cells": [
  {
   "cell_type": "markdown",
   "source": [
    "# FAST: the quickstart problem"
   ],
   "metadata": {}
  },
  {
   "cell_type": "markdown",
   "source": [
    "An implementation of the QuickStart example from [FAST](https://github.com/leopoldcambier/FAST/tree/daea3d80a5ebb2c52f78670e34db56d53ca2e778/demo)"
   ],
   "metadata": {}
  },
  {
   "outputs": [],
   "cell_type": "code",
   "source": [
    "using SDDP, HiGHS, Test\n",
    "\n",
    "function fast_quickstart()\n",
    "    model = SDDP.PolicyGraph(\n",
    "        SDDP.LinearGraph(2),\n",
    "        lower_bound = -5,\n",
    "        optimizer = HiGHS.Optimizer,\n",
    "    ) do sp, t\n",
    "        @variable(sp, x >= 0, SDDP.State, initial_value = 0.0)\n",
    "        if t == 1\n",
    "            @stageobjective(sp, x.out)\n",
    "        else\n",
    "            @variable(sp, s >= 0)\n",
    "            @constraint(sp, s <= x.in)\n",
    "            SDDP.parameterize(sp, [2, 3]) do ω\n",
    "                return JuMP.set_upper_bound(s, ω)\n",
    "            end\n",
    "            @stageobjective(sp, -2s)\n",
    "        end\n",
    "    end\n",
    "\n",
    "    det = SDDP.deterministic_equivalent(model, HiGHS.Optimizer)\n",
    "    set_silent(det)\n",
    "    JuMP.optimize!(det)\n",
    "    @test JuMP.objective_value(det) == -2\n",
    "\n",
    "    SDDP.train(model)\n",
    "    @test SDDP.calculate_bound(model) == -2\n",
    "end\n",
    "\n",
    "fast_quickstart()"
   ],
   "metadata": {},
   "execution_count": null
  },
  {
   "cell_type": "markdown",
   "source": [
    "---\n",
    "\n",
    "*This notebook was generated using [Literate.jl](https://github.com/fredrikekre/Literate.jl).*"
   ],
   "metadata": {}
  }
 ],
 "nbformat_minor": 3,
 "metadata": {
  "language_info": {
   "file_extension": ".jl",
   "mimetype": "application/julia",
   "name": "julia",
   "version": "1.9.2"
  },
  "kernelspec": {
   "name": "julia-1.9",
   "display_name": "Julia 1.9.2",
   "language": "julia"
  }
 },
 "nbformat": 4
}
