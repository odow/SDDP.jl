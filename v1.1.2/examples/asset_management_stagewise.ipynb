{
 "cells": [
  {
   "cell_type": "markdown",
   "source": [
    "# Asset management with modifications"
   ],
   "metadata": {}
  },
  {
   "cell_type": "markdown",
   "source": [
    "A modified version of the Asset Management Problem Taken from the book\n",
    "J.R. Birge, F. Louveaux, Introduction to Stochastic Programming,\n",
    "Springer Series in Operations Research and Financial Engineering,\n",
    "Springer New York, New York, NY, 2011"
   ],
   "metadata": {}
  },
  {
   "outputs": [],
   "cell_type": "code",
   "source": [
    "using SDDP, HiGHS, Test\n",
    "\n",
    "function asset_management_stagewise(; cut_type)\n",
    "    w_s = [1.25, 1.06]\n",
    "    w_b = [1.14, 1.12]\n",
    "    Phi = [-1, 5]\n",
    "    Psi = [0.02, 0.0]\n",
    "\n",
    "    model = SDDP.MarkovianPolicyGraph(\n",
    "        sense = :Max,\n",
    "        transition_matrices = Array{Float64,2}[\n",
    "            [1.0]',\n",
    "            [0.5 0.5],\n",
    "            [0.5 0.5; 0.5 0.5],\n",
    "            [0.5 0.5; 0.5 0.5],\n",
    "        ],\n",
    "        bellman_function = SDDP.BellmanFunction(\n",
    "            upper_bound = 1000.0,\n",
    "            cut_type = cut_type,\n",
    "        ),\n",
    "        optimizer = HiGHS.Optimizer,\n",
    "    ) do subproblem, node\n",
    "        t, i = node\n",
    "        @variable(subproblem, xs >= 0, SDDP.State, initial_value = 0)\n",
    "        @variable(subproblem, xb >= 0, SDDP.State, initial_value = 0)\n",
    "        if t == 1\n",
    "            @constraint(subproblem, xs.out + xb.out == 55 + xs.in + xb.in)\n",
    "            @stageobjective(subproblem, 0)\n",
    "        elseif t == 2 || t == 3\n",
    "            @variable(subproblem, phi)\n",
    "            @constraint(\n",
    "                subproblem,\n",
    "                w_s[i] * xs.in + w_b[i] * xb.in + phi == xs.out + xb.out\n",
    "            )\n",
    "            SDDP.parameterize(subproblem, [1, 2], [0.6, 0.4]) do ω\n",
    "                JuMP.fix(phi, Phi[ω])\n",
    "                @stageobjective(subproblem, Psi[ω] * xs.out)\n",
    "            end\n",
    "        else\n",
    "            @variable(subproblem, u >= 0)\n",
    "            @variable(subproblem, v >= 0)\n",
    "            @constraint(\n",
    "                subproblem,\n",
    "                w_s[i] * xs.in + w_b[i] * xb.in + u - v == 80,\n",
    "            )\n",
    "            @stageobjective(subproblem, -4u + v)\n",
    "        end\n",
    "    end\n",
    "    SDDP.train(\n",
    "        model;\n",
    "        iteration_limit = 100,\n",
    "        log_frequency = 10,\n",
    "        risk_measure = (node) -> begin\n",
    "            if node[1] != 3\n",
    "                SDDP.Expectation()\n",
    "            else\n",
    "                SDDP.EAVaR(lambda = 0.5, beta = 0.5)\n",
    "            end\n",
    "        end,\n",
    "    )\n",
    "    @test SDDP.calculate_bound(model) ≈ 1.278 atol = 1e-3\n",
    "    return\n",
    "end\n",
    "\n",
    "asset_management_stagewise(cut_type = SDDP.SINGLE_CUT)\n",
    "\n",
    "asset_management_stagewise(cut_type = SDDP.MULTI_CUT)"
   ],
   "metadata": {},
   "execution_count": null
  },
  {
   "cell_type": "markdown",
   "source": [
    "---\n",
    "\n",
    "*This notebook was generated using [Literate.jl](https://github.com/fredrikekre/Literate.jl).*"
   ],
   "metadata": {}
  }
 ],
 "nbformat_minor": 3,
 "metadata": {
  "language_info": {
   "file_extension": ".jl",
   "mimetype": "application/julia",
   "name": "julia",
   "version": "1.8.5"
  },
  "kernelspec": {
   "name": "julia-1.8",
   "display_name": "Julia 1.8.5",
   "language": "julia"
  }
 },
 "nbformat": 4
}
