{
 "cells": [
  {
   "cell_type": "markdown",
   "source": [
    "# Booking management"
   ],
   "metadata": {}
  },
  {
   "cell_type": "markdown",
   "source": [
    "This example concerns the acceptance of booking requests for rooms in a\n",
    "hotel in the lead up to a large event."
   ],
   "metadata": {}
  },
  {
   "cell_type": "markdown",
   "source": [
    "Each stage, we receive a booking request and can choose to accept or decline\n",
    "it. Once accepted, bookings cannot be terminated."
   ],
   "metadata": {}
  },
  {
   "outputs": [],
   "cell_type": "code",
   "source": [
    "using SDDP, HiGHS, Test\n",
    "\n",
    "function booking_management_model(num_days, num_rooms, num_requests)\n",
    "    # maximum revenue that could be accrued.\n",
    "    max_revenue = (num_rooms + num_requests) * num_days * num_rooms\n",
    "    # booking_requests is a vector of {0,1} arrays of size\n",
    "    # (num_days x num_rooms) if the room is requested.\n",
    "    booking_requests = Array{Int,2}[]\n",
    "    for room in 1:num_rooms\n",
    "        for day in 1:num_days\n",
    "            # note: length_of_stay is 0 indexed to avoid unnecessary +/- 1\n",
    "            # on the indexing\n",
    "            for length_of_stay in 0:(num_days-day)\n",
    "                req = zeros(Int, (num_rooms, num_days))\n",
    "                req[room:room, day.+(0:length_of_stay)] .= 1\n",
    "                push!(booking_requests, req)\n",
    "            end\n",
    "        end\n",
    "    end\n",
    "\n",
    "    return model = SDDP.LinearPolicyGraph(\n",
    "        stages = num_requests,\n",
    "        upper_bound = max_revenue,\n",
    "        sense = :Max,\n",
    "        optimizer = HiGHS.Optimizer,\n",
    "    ) do sp, stage\n",
    "        @variable(\n",
    "            sp,\n",
    "            0 <= vacancy[room = 1:num_rooms, day = 1:num_days] <= 1,\n",
    "            SDDP.State,\n",
    "            Bin,\n",
    "            initial_value = 1\n",
    "        )\n",
    "        @variables(\n",
    "            sp,\n",
    "            begin\n",
    "                # Accept request for booking of room for length of time.\n",
    "                0 <= accept_request <= 1, Bin\n",
    "                # Accept a booking for an individual room on an individual day.\n",
    "                0 <= room_request_accepted[1:num_rooms, 1:num_days] <= 1, Bin\n",
    "                # Helper for JuMP.fix\n",
    "                req[1:num_rooms, 1:num_days]\n",
    "            end\n",
    "        )\n",
    "        for room in 1:num_rooms, day in 1:num_days\n",
    "            @constraints(\n",
    "                sp,\n",
    "                begin\n",
    "                    # Update vacancy if we accept a room request\n",
    "                    vacancy[room, day].out ==\n",
    "                    vacancy[room, day].in - room_request_accepted[room, day]\n",
    "                    # Can't accept a request of a filled room\n",
    "                    room_request_accepted[room, day] <= vacancy[room, day].in\n",
    "                    # Can't accept invididual room request if entire request is declined\n",
    "                    room_request_accepted[room, day] <= accept_request\n",
    "                    # Can't accept request if room not requested\n",
    "                    room_request_accepted[room, day] <= req[room, day]\n",
    "                    # Accept all individual rooms is entire request is accepted\n",
    "                    room_request_accepted[room, day] + (1 - accept_request) >= req[room, day]\n",
    "                end\n",
    "            )\n",
    "        end\n",
    "        SDDP.parameterize(sp, booking_requests) do request\n",
    "            return JuMP.fix.(req, request)\n",
    "        end\n",
    "        @stageobjective(\n",
    "            sp,\n",
    "            sum(\n",
    "                (room + stage - 1) * room_request_accepted[room, day] for\n",
    "                room in 1:num_rooms for day in 1:num_days\n",
    "            )\n",
    "        )\n",
    "    end\n",
    "end\n",
    "\n",
    "function booking_management(duality_handler)\n",
    "    m_1_2_5 = booking_management_model(1, 2, 5)\n",
    "    SDDP.train(m_1_2_5; log_frequency = 5, duality_handler = duality_handler)\n",
    "    if duality_handler == SDDP.ContinuousConicDuality()\n",
    "        @test SDDP.calculate_bound(m_1_2_5) >= 7.25 - 1e-4\n",
    "    else\n",
    "        @test isapprox(SDDP.calculate_bound(m_1_2_5), 7.25, atol = 0.02)\n",
    "    end\n",
    "\n",
    "    m_2_2_3 = booking_management_model(2, 2, 3)\n",
    "    SDDP.train(m_2_2_3; log_frequency = 10, duality_handler = duality_handler)\n",
    "    if duality_handler == SDDP.ContinuousConicDuality()\n",
    "        @test SDDP.calculate_bound(m_1_2_5) > 6.13\n",
    "    else\n",
    "        @test isapprox(SDDP.calculate_bound(m_2_2_3), 6.13, atol = 0.02)\n",
    "    end\n",
    "end\n",
    "\n",
    "booking_management(SDDP.ContinuousConicDuality())"
   ],
   "metadata": {},
   "execution_count": null
  },
  {
   "cell_type": "markdown",
   "source": [
    "New version of HiGHS stalls\n",
    "booking_management(SDDP.LagrangianDuality())"
   ],
   "metadata": {}
  }
 ],
 "nbformat_minor": 3,
 "metadata": {
  "language_info": {
   "file_extension": ".jl",
   "mimetype": "application/julia",
   "name": "julia",
   "version": "1.10.0"
  },
  "kernelspec": {
   "name": "julia-1.10",
   "display_name": "Julia 1.10.0",
   "language": "julia"
  }
 },
 "nbformat": 4
}
