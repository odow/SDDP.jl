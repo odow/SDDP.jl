{
 "cells": [
  {
   "cell_type": "markdown",
   "source": [
    "# StochDynamicProgramming: the multistock problem"
   ],
   "metadata": {}
  },
  {
   "cell_type": "markdown",
   "source": [
    "This example comes from [StochDynamicProgramming.jl](https://github.com/JuliaOpt/StochDynamicProgramming.jl/tree/f68b9da541c2f811ce24fc76f6065803a0715c2f/examples/multistock-example.jl)."
   ],
   "metadata": {}
  },
  {
   "outputs": [],
   "cell_type": "code",
   "source": [
    "using SDDP, HiGHS, Test\n",
    "\n",
    "function test_multistock_example()\n",
    "    model = SDDP.LinearPolicyGraph(\n",
    "        stages = 5,\n",
    "        lower_bound = -5.0,\n",
    "        optimizer = HiGHS.Optimizer,\n",
    "    ) do subproblem, stage\n",
    "        @variable(\n",
    "            subproblem,\n",
    "            0 <= stock[i = 1:3] <= 1,\n",
    "            SDDP.State,\n",
    "            initial_value = 0.5\n",
    "        )\n",
    "        @variables(subproblem, begin\n",
    "            0 <= control[i = 1:3] <= 0.5\n",
    "            ξ[i = 1:3]  # Dummy for RHS noise.\n",
    "        end)\n",
    "        @constraints(\n",
    "            subproblem,\n",
    "            begin\n",
    "                sum(control) - 0.5 * 3 <= 0\n",
    "                [i = 1:3], stock[i].out == stock[i].in + control[i] - ξ[i]\n",
    "            end\n",
    "        )\n",
    "        Ξ = collect(\n",
    "            Base.product((0.0, 0.15, 0.3), (0.0, 0.15, 0.3), (0.0, 0.15, 0.3)),\n",
    "        )[:]\n",
    "        SDDP.parameterize(subproblem, Ξ) do ω\n",
    "            return JuMP.fix.(ξ, ω)\n",
    "        end\n",
    "        @stageobjective(subproblem, (sin(3 * stage) - 1) * sum(control))\n",
    "    end\n",
    "    SDDP.train(\n",
    "        model;\n",
    "        iteration_limit = 100,\n",
    "        cut_type = SDDP.SINGLE_CUT,\n",
    "        log_frequency = 10,\n",
    "    )\n",
    "    @test SDDP.calculate_bound(model) ≈ -4.349 atol = 0.01\n",
    "\n",
    "    simulation_results = SDDP.simulate(model, 5000)\n",
    "    @test length(simulation_results) == 5000\n",
    "    μ = SDDP.Statistics.mean(\n",
    "        sum(data[:stage_objective] for data in simulation) for\n",
    "        simulation in simulation_results\n",
    "    )\n",
    "    @test μ ≈ -4.349 atol = 0.1\n",
    "    return\n",
    "end\n",
    "\n",
    "test_multistock_example()"
   ],
   "metadata": {},
   "execution_count": null
  }
 ],
 "nbformat_minor": 3,
 "metadata": {
  "language_info": {
   "file_extension": ".jl",
   "mimetype": "application/julia",
   "name": "julia",
   "version": "1.10.0"
  },
  "kernelspec": {
   "name": "julia-1.10",
   "display_name": "Julia 1.10.0",
   "language": "julia"
  }
 },
 "nbformat": 4
}
