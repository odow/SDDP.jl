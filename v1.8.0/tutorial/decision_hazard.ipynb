{
 "cells": [
  {
   "cell_type": "markdown",
   "source": [
    "# Here-and-now and hazard-decision"
   ],
   "metadata": {}
  },
  {
   "cell_type": "markdown",
   "source": [
    "SDDP.jl assumes that the agent gets to make a decision _after_ observing the\n",
    "realization of the random variable. This is called a _wait-and-see_ or\n",
    "_hazard-decision_ model. In contrast, you might want your agent to make\n",
    "decisions _before_ observing the random variable. This is called a\n",
    "_here-and-now_ or _decision-hazard_ model."
   ],
   "metadata": {}
  },
  {
   "cell_type": "markdown",
   "source": [
    "!!! info\n",
    "    The terms decision-hazard and hazard-decision from the French _hasard_,\n",
    "    meaning chance. It could also have been translated as uncertainty-decision\n",
    "    and decision-uncertainty, but the community seems to have settled on the\n",
    "    transliteration _hazard_ instead. We like the hazard-decision and\n",
    "    decision-hazard terms because they clearly communicate the order of the\n",
    "    decision and the uncertainty."
   ],
   "metadata": {}
  },
  {
   "cell_type": "markdown",
   "source": [
    "The purpose of this tutorial is to demonstrate how to model here-and-how\n",
    "decisions in SDDP.jl."
   ],
   "metadata": {}
  },
  {
   "cell_type": "markdown",
   "source": [
    "This tutorial uses the following packages:"
   ],
   "metadata": {}
  },
  {
   "outputs": [],
   "cell_type": "code",
   "source": [
    "using SDDP\n",
    "import HiGHS"
   ],
   "metadata": {},
   "execution_count": null
  },
  {
   "cell_type": "markdown",
   "source": [
    "## Hazard-decision formulation"
   ],
   "metadata": {}
  },
  {
   "cell_type": "markdown",
   "source": [
    "As an example, we're going to build a standard hydro-thermal scheduling\n",
    "model, with a single hydro-reservoir and a single thermal generation plant.\n",
    "In each of the four stages, we need to choose some mix of `u_thermal` and\n",
    "`u_hydro` to meet a demand of `9` units, where unmet demand is penalized at a\n",
    "rate of \\$500/unit."
   ],
   "metadata": {}
  },
  {
   "outputs": [],
   "cell_type": "code",
   "source": [
    "hazard_decision = SDDP.LinearPolicyGraph(\n",
    "    stages = 4,\n",
    "    sense = :Min,\n",
    "    lower_bound = 0.0,\n",
    "    optimizer = HiGHS.Optimizer,\n",
    ") do sp, node\n",
    "    @variables(sp, begin\n",
    "        0 <= x_storage <= 8, (SDDP.State, initial_value = 6)\n",
    "        u_thermal >= 0\n",
    "        u_hydro >= 0\n",
    "        u_unmet_demand >= 0\n",
    "    end)\n",
    "    @constraint(sp, u_thermal + u_hydro == 9 - u_unmet_demand)\n",
    "    @constraint(sp, c_balance, x_storage.out == x_storage.in - u_hydro + 0)\n",
    "    SDDP.parameterize(sp, [2, 3]) do ω_inflow\n",
    "        return set_normalized_rhs(c_balance, ω_inflow)\n",
    "    end\n",
    "    @stageobjective(sp, 500 * u_unmet_demand + 20 * u_thermal)\n",
    "end"
   ],
   "metadata": {},
   "execution_count": null
  },
  {
   "cell_type": "markdown",
   "source": [
    "## Decision-hazard formulation"
   ],
   "metadata": {}
  },
  {
   "cell_type": "markdown",
   "source": [
    "In the wait-and-see formulation, we get to decide the generation variables\n",
    "_after_ observing the realization of `ω_inflow`. However, a common modeling\n",
    "situation is that we need to decide the level of thermal generation\n",
    "`u_thermal` _before_ observing the inflow."
   ],
   "metadata": {}
  },
  {
   "cell_type": "markdown",
   "source": [
    "SDDP.jl can model here-and-now decisions with a modeling trick: a wait-and-see\n",
    "decision in stage _t-1_ is equivalent to a here-and-now decision in stage _t_."
   ],
   "metadata": {}
  },
  {
   "cell_type": "markdown",
   "source": [
    "In other words, we need to convert the `u_thermal` decision from a control\n",
    "variable that is decided in stage `t`, to a state variable that is decided in\n",
    "stage `t-1`. Here's our new model, with the three lines that have changed:"
   ],
   "metadata": {}
  },
  {
   "outputs": [],
   "cell_type": "code",
   "source": [
    "decision_hazard = SDDP.LinearPolicyGraph(\n",
    "    stages = 4,\n",
    "    sense = :Min,\n",
    "    lower_bound = 0.0,\n",
    "    optimizer = HiGHS.Optimizer,\n",
    ") do sp, node\n",
    "    @variables(sp, begin\n",
    "        0 <= x_storage <= 8, (SDDP.State, initial_value = 6)\n",
    "        u_thermal >= 0, (SDDP.State, initial_value = 0)  # <-- changed\n",
    "        u_hydro >= 0\n",
    "        u_unmet_demand >= 0\n",
    "    end)\n",
    "    @constraint(sp, u_thermal.in + u_hydro == 9 - u_unmet_demand)  # <-- changed\n",
    "    @constraint(sp, c_balance, x_storage.out == x_storage.in - u_hydro + 0)\n",
    "    SDDP.parameterize(sp, [2, 3]) do ω\n",
    "        return set_normalized_rhs(c_balance, ω)\n",
    "    end\n",
    "    @stageobjective(sp, 500 * u_unmet_demand + 20 * u_thermal.in) # <-- changed\n",
    "end"
   ],
   "metadata": {},
   "execution_count": null
  },
  {
   "cell_type": "markdown",
   "source": [
    "Can you understand the reformulation? In each stage, we now use the value of\n",
    "`u_thermal.in` instead of `u_thermal`, and the value of the outgoing\n",
    "`u_thermal.out` is the here-and-how decision for stage `t+1`."
   ],
   "metadata": {}
  },
  {
   "cell_type": "markdown",
   "source": [
    "(If you can spot a \"mistake\" with this model, don't worry, we'll fix it below.\n",
    "Presenting it like this simplifies the exposition.)"
   ],
   "metadata": {}
  },
  {
   "cell_type": "markdown",
   "source": [
    "## Comparison"
   ],
   "metadata": {}
  },
  {
   "cell_type": "markdown",
   "source": [
    "Let's compare the cost of operating the two models:"
   ],
   "metadata": {}
  },
  {
   "outputs": [],
   "cell_type": "code",
   "source": [
    "function train_and_compute_cost(model)\n",
    "    SDDP.train(model; print_level = 0)\n",
    "    return println(\"Cost = \\$\", SDDP.calculate_bound(model))\n",
    "end\n",
    "\n",
    "train_and_compute_cost(hazard_decision)"
   ],
   "metadata": {},
   "execution_count": null
  },
  {
   "outputs": [],
   "cell_type": "code",
   "source": [
    "train_and_compute_cost(decision_hazard)"
   ],
   "metadata": {},
   "execution_count": null
  },
  {
   "cell_type": "markdown",
   "source": [
    "This suggests that choosing the thermal generation before observing the inflow\n",
    "adds a cost of \\$250. But does this make sense?"
   ],
   "metadata": {}
  },
  {
   "cell_type": "markdown",
   "source": [
    "If we look carefully at our `decision_hazard` model, the incoming value of\n",
    "`u_thermal.in` in the first stage is fixed to the `initial_value` of `0`.\n",
    "Therefore, we must always meet the full demand with `u_hydro`, which we cannot\n",
    "do without incurring unmet demand."
   ],
   "metadata": {}
  },
  {
   "cell_type": "markdown",
   "source": [
    "To allow the model to choose an optimal level of `u_thermal` in the\n",
    "first-stage, we need to add an extra stage that is deterministic with no\n",
    "stage objective."
   ],
   "metadata": {}
  },
  {
   "cell_type": "markdown",
   "source": [
    "## Fixing the decision-hazard"
   ],
   "metadata": {}
  },
  {
   "cell_type": "markdown",
   "source": [
    "In the following model, we now have five stages, so that stage `t+1` in\n",
    "`decision_hazard_2` corresponds to stage `t` in `decision_hazard`. We've also\n",
    "added an `if`-statement, which adds different constraints depending on the\n",
    "node. Note that we need to add an `x_storage.out == x_storage.in` constraint\n",
    "because the storage can't change in this new first-stage."
   ],
   "metadata": {}
  },
  {
   "outputs": [],
   "cell_type": "code",
   "source": [
    "decision_hazard_2 = SDDP.LinearPolicyGraph(\n",
    "    stages = 5,  # <-- changed\n",
    "    sense = :Min,\n",
    "    lower_bound = 0.0,\n",
    "    optimizer = HiGHS.Optimizer,\n",
    ") do sp, node\n",
    "    @variables(sp, begin\n",
    "        0 <= x_storage <= 8, (SDDP.State, initial_value = 6)\n",
    "        u_thermal >= 0, (SDDP.State, initial_value = 0)\n",
    "        u_hydro >= 0\n",
    "        u_unmet_demand >= 0\n",
    "    end)\n",
    "    if node == 1                                        # <-- new\n",
    "        @constraint(sp, x_storage.out == x_storage.in)  # <-- new\n",
    "        @stageobjective(sp, 0)                          # <-- new\n",
    "    else\n",
    "        @constraint(sp, u_thermal.in + u_hydro == 9 - u_unmet_demand)\n",
    "        @constraint(sp, c_balance, x_storage.out == x_storage.in - u_hydro + 0)\n",
    "        SDDP.parameterize(sp, [2, 3]) do ω\n",
    "            return set_normalized_rhs(c_balance, ω)\n",
    "        end\n",
    "        @stageobjective(sp, 500 * u_unmet_demand + 20 * u_thermal.in)\n",
    "    end\n",
    "end\n",
    "\n",
    "train_and_compute_cost(decision_hazard_2)"
   ],
   "metadata": {},
   "execution_count": null
  },
  {
   "cell_type": "markdown",
   "source": [
    "Now we find that the cost of choosing the thermal generation before observing\n",
    "the inflow adds a much more reasonable cost of \\$10."
   ],
   "metadata": {}
  },
  {
   "cell_type": "markdown",
   "source": [
    "## Summary"
   ],
   "metadata": {}
  },
  {
   "cell_type": "markdown",
   "source": [
    "To summarize, the difference between here-and-now and wait-and-see variables\n",
    "is a modeling choice."
   ],
   "metadata": {}
  },
  {
   "cell_type": "markdown",
   "source": [
    "To create a here-and-now decision, add it as a state variable to the\n",
    "previous stage"
   ],
   "metadata": {}
  },
  {
   "cell_type": "markdown",
   "source": [
    "In some cases, you'll need to add an additional \"first-stage\" problem to\n",
    "enable the model to choose an optimal value for the here-and-now decision\n",
    "variable. You do not need to do this if the first stage is deterministic. You\n",
    "must make sure that the subproblem is feasible for all possible incoming\n",
    "values of the here-and-now decision variable."
   ],
   "metadata": {}
  }
 ],
 "nbformat_minor": 3,
 "metadata": {
  "language_info": {
   "file_extension": ".jl",
   "mimetype": "application/julia",
   "name": "julia",
   "version": "1.10.4"
  },
  "kernelspec": {
   "name": "julia-1.10",
   "display_name": "Julia 1.10.4",
   "language": "julia"
  }
 },
 "nbformat": 4
}
