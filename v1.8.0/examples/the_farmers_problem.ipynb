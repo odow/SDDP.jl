{
 "cells": [
  {
   "cell_type": "markdown",
   "source": [
    "# The farmer's problem\n",
    "\n",
    "_This problem is taken from Section 1.1 of the book Birge, J. R., & Louveaux,\n",
    "F. (2011). Introduction to Stochastic Programming. New York, NY: Springer New\n",
    "York. Paragraphs in quotes are taken verbatim._"
   ],
   "metadata": {}
  },
  {
   "cell_type": "markdown",
   "source": [
    "## Problem description"
   ],
   "metadata": {}
  },
  {
   "cell_type": "markdown",
   "source": [
    "> Consider a European farmer who specializes in raising wheat, corn, and sugar\n",
    "> beets on his 500 acres of land. During the winter, [they want] to decide how\n",
    "> much land to devote to each crop.\n",
    ">\n",
    "> The farmer knows that at least 200 tons (T) of wheat and 240 T of corn are\n",
    "> needed for cattle feed. These amounts can be raised on the farm or bought\n",
    "> from a wholesaler. Any production in excess of the feeding requirement would\n",
    "> be sold.\n",
    ">\n",
    "> Over the last decade, mean selling prices have been \\$170 and \\$150 per\n",
    "> ton of wheat and corn, respectively. The purchase prices are 40% more than\n",
    "> this due to the wholesaler’s margin and transportation costs.\n",
    ">\n",
    "> Another profitable crop is sugar beet, which [they expect] to sell at\n",
    "> \\$36/T; however, the European Commission imposes a quota on sugar beet\n",
    "> production. Any amount in excess of the quota can be sold only at \\$10/T.\n",
    "> The farmer’s quota for next year is 6000 T.\"\n",
    ">\n",
    "> Based on past experience, the farmer knows that the mean yield on [their]\n",
    "> land is roughly 2.5 T, 3 T, and 20 T per acre for wheat, corn, and sugar\n",
    "> beets, respectively.\n",
    ">\n",
    "> [To introduce uncertainty,] assume some correlation among the yields of the\n",
    "> different crops. A very simplified representation of this would be to assume\n",
    "> that years are good, fair, or bad for all crops, resulting in above average,\n",
    "> average, or below average yields for all crops. To fix these ideas, _above_\n",
    "> and _below_ average indicate a yield 20% above or below the mean yield."
   ],
   "metadata": {}
  },
  {
   "cell_type": "markdown",
   "source": [
    "## Problem data"
   ],
   "metadata": {}
  },
  {
   "cell_type": "markdown",
   "source": [
    "The area of the farm."
   ],
   "metadata": {}
  },
  {
   "outputs": [],
   "cell_type": "code",
   "source": [
    "MAX_AREA = 500.0"
   ],
   "metadata": {},
   "execution_count": null
  },
  {
   "cell_type": "markdown",
   "source": [
    "There are three crops:"
   ],
   "metadata": {}
  },
  {
   "outputs": [],
   "cell_type": "code",
   "source": [
    "CROPS = [:wheat, :corn, :sugar_beet]"
   ],
   "metadata": {},
   "execution_count": null
  },
  {
   "cell_type": "markdown",
   "source": [
    "Each of the crops has a different planting cost (\\$/acre)."
   ],
   "metadata": {}
  },
  {
   "outputs": [],
   "cell_type": "code",
   "source": [
    "PLANTING_COST = Dict(:wheat => 150.0, :corn => 230.0, :sugar_beet => 260.0)"
   ],
   "metadata": {},
   "execution_count": null
  },
  {
   "cell_type": "markdown",
   "source": [
    "The farmer requires a minimum quantity of wheat and corn, but not of sugar\n",
    "beet (tonnes)."
   ],
   "metadata": {}
  },
  {
   "outputs": [],
   "cell_type": "code",
   "source": [
    "MIN_QUANTITIES = Dict(:wheat => 200.0, :corn => 240.0, :sugar_beet => 0.0)"
   ],
   "metadata": {},
   "execution_count": null
  },
  {
   "cell_type": "markdown",
   "source": [
    "In Europe, there is a quota system for producing crops. The farmer owns the\n",
    "following quota for each crop (tonnes):"
   ],
   "metadata": {}
  },
  {
   "outputs": [],
   "cell_type": "code",
   "source": [
    "QUOTA_MAX = Dict(:wheat => Inf, :corn => Inf, :sugar_beet => 6_000.0)"
   ],
   "metadata": {},
   "execution_count": null
  },
  {
   "cell_type": "markdown",
   "source": [
    "The farmer can sell crops produced under the quota for the following amounts\n",
    "(\\$/tonne):"
   ],
   "metadata": {}
  },
  {
   "outputs": [],
   "cell_type": "code",
   "source": [
    "SELL_IN_QUOTA = Dict(:wheat => 170.0, :corn => 150.0, :sugar_beet => 36.0)"
   ],
   "metadata": {},
   "execution_count": null
  },
  {
   "cell_type": "markdown",
   "source": [
    "If they sell more than their allotted quota, the farmer earns the following on\n",
    "each tonne of crop above the quota (\\$/tonne):"
   ],
   "metadata": {}
  },
  {
   "outputs": [],
   "cell_type": "code",
   "source": [
    "SELL_NO_QUOTA = Dict(:wheat => 0.0, :corn => 0.0, :sugar_beet => 10.0)"
   ],
   "metadata": {},
   "execution_count": null
  },
  {
   "cell_type": "markdown",
   "source": [
    "The purchase prices for wheat and corn are 40% more than their sales price.\n",
    "However, the description does not address the purchase price of sugar beet.\n",
    "Therefore, we use a large value of \\$1,000/tonne."
   ],
   "metadata": {}
  },
  {
   "outputs": [],
   "cell_type": "code",
   "source": [
    "BUY_PRICE = Dict(:wheat => 238.0, :corn => 210.0, :sugar_beet => 1_000.0)"
   ],
   "metadata": {},
   "execution_count": null
  },
  {
   "cell_type": "markdown",
   "source": [
    "On average, each crop has the following yield in tonnes/acre:"
   ],
   "metadata": {}
  },
  {
   "outputs": [],
   "cell_type": "code",
   "source": [
    "MEAN_YIELD = Dict(:wheat => 2.5, :corn => 3.0, :sugar_beet => 20.0)"
   ],
   "metadata": {},
   "execution_count": null
  },
  {
   "cell_type": "markdown",
   "source": [
    "However, the yield is random. In good years, the yield is +20% above average,\n",
    "and in bad years, the yield is -20% below average."
   ],
   "metadata": {}
  },
  {
   "outputs": [],
   "cell_type": "code",
   "source": [
    "YIELD_MULTIPLIER = Dict(:good => 1.2, :fair => 1.0, :bad => 0.8)"
   ],
   "metadata": {},
   "execution_count": null
  },
  {
   "cell_type": "markdown",
   "source": [
    "## Mathematical formulation"
   ],
   "metadata": {}
  },
  {
   "cell_type": "markdown",
   "source": [
    "## SDDP.jl code"
   ],
   "metadata": {}
  },
  {
   "cell_type": "markdown",
   "source": [
    "!!! note\n",
    "    In what follows, we make heavy use of the fact that you can look up\n",
    "    variables by their symbol name in a JuMP model as follows:\n",
    "    ```julia\n",
    "    @variable(model, x)\n",
    "    model[:x]\n",
    "    ```\n",
    "    Read the [JuMP documentation](http://jump.dev/JuMP.jl/stable)\n",
    "    if this isn't familiar to you."
   ],
   "metadata": {}
  },
  {
   "cell_type": "markdown",
   "source": [
    "First up, load `SDDP.jl` and a solver. For this example, we use\n",
    "[`HiGHS.jl`](https://github.com/jump-dev/HiGHS.jl)."
   ],
   "metadata": {}
  },
  {
   "outputs": [],
   "cell_type": "code",
   "source": [
    "using SDDP, HiGHS"
   ],
   "metadata": {},
   "execution_count": null
  },
  {
   "cell_type": "markdown",
   "source": [
    "### State variables"
   ],
   "metadata": {}
  },
  {
   "cell_type": "markdown",
   "source": [
    "State variables are the information that flows between stages. In our example,\n",
    "the state variables are the areas of land devoted to growing each crop."
   ],
   "metadata": {}
  },
  {
   "outputs": [],
   "cell_type": "code",
   "source": [
    "function add_state_variables(subproblem)\n",
    "    @variable(subproblem, area[c = CROPS] >= 0, SDDP.State, initial_value = 0)\n",
    "end"
   ],
   "metadata": {},
   "execution_count": null
  },
  {
   "cell_type": "markdown",
   "source": [
    "### First stage problem"
   ],
   "metadata": {}
  },
  {
   "cell_type": "markdown",
   "source": [
    "We can only plant a maximum of 500 acres, and we want to minimize the planting\n",
    "cost"
   ],
   "metadata": {}
  },
  {
   "outputs": [],
   "cell_type": "code",
   "source": [
    "function create_first_stage_problem(subproblem)\n",
    "    @constraint(\n",
    "        subproblem,\n",
    "        sum(subproblem[:area][c].out for c in CROPS) <= MAX_AREA\n",
    "    )\n",
    "    @stageobjective(\n",
    "        subproblem,\n",
    "        -sum(PLANTING_COST[c] * subproblem[:area][c].out for c in CROPS)\n",
    "    )\n",
    "end"
   ],
   "metadata": {},
   "execution_count": null
  },
  {
   "cell_type": "markdown",
   "source": [
    "### Second stage problem"
   ],
   "metadata": {}
  },
  {
   "cell_type": "markdown",
   "source": [
    "Now let's consider the second stage problem. This is more complicated than\n",
    "the first stage, so we've broken it down into four sections:\n",
    "1) control variables\n",
    "2) constraints\n",
    "3) the objective\n",
    "4) the uncertainty"
   ],
   "metadata": {}
  },
  {
   "cell_type": "markdown",
   "source": [
    "First, let's add the second stage control variables."
   ],
   "metadata": {}
  },
  {
   "cell_type": "markdown",
   "source": [
    "#### Variables"
   ],
   "metadata": {}
  },
  {
   "cell_type": "markdown",
   "source": [
    "We add four types of control variables. Technically, the `yield` isn't a\n",
    "control variable. However, we add it as a dummy \"helper\" variable because it\n",
    "will be used when we add uncertainty."
   ],
   "metadata": {}
  },
  {
   "outputs": [],
   "cell_type": "code",
   "source": [
    "function second_stage_variables(subproblem)\n",
    "    @variables(subproblem, begin\n",
    "        0 <= yield[c = CROPS]                          # tonnes/acre\n",
    "        0 <= buy[c = CROPS]                            # tonnes\n",
    "        0 <= sell_in_quota[c = CROPS] <= QUOTA_MAX[c]  # tonnes\n",
    "        0 <= sell_no_quota[c = CROPS]                  # tonnes\n",
    "    end)\n",
    "end"
   ],
   "metadata": {},
   "execution_count": null
  },
  {
   "cell_type": "markdown",
   "source": [
    "#### Constraints"
   ],
   "metadata": {}
  },
  {
   "cell_type": "markdown",
   "source": [
    "We need to define is the minimum quantity constraint. This ensures that\n",
    "`MIN_QUANTITIES[c]` of each crop is produced."
   ],
   "metadata": {}
  },
  {
   "outputs": [],
   "cell_type": "code",
   "source": [
    "function second_stage_constraint_min_quantity(subproblem)\n",
    "    @constraint(\n",
    "        subproblem,\n",
    "        [c = CROPS],\n",
    "        subproblem[:yield][c] + subproblem[:buy][c] -\n",
    "        subproblem[:sell_in_quota][c] - subproblem[:sell_no_quota][c] >=\n",
    "        MIN_QUANTITIES[c]\n",
    "    )\n",
    "end"
   ],
   "metadata": {},
   "execution_count": null
  },
  {
   "cell_type": "markdown",
   "source": [
    "#### Objective"
   ],
   "metadata": {}
  },
  {
   "cell_type": "markdown",
   "source": [
    "The objective of the second stage is to maximise revenue from selling crops,\n",
    "less the cost of buying corn and wheat if necessary to meet the minimum\n",
    "quantity constraint."
   ],
   "metadata": {}
  },
  {
   "outputs": [],
   "cell_type": "code",
   "source": [
    "function second_stage_objective(subproblem)\n",
    "    @stageobjective(\n",
    "        subproblem,\n",
    "        sum(\n",
    "            SELL_IN_QUOTA[c] * subproblem[:sell_in_quota][c] +\n",
    "            SELL_NO_QUOTA[c] * subproblem[:sell_no_quota][c] -\n",
    "            BUY_PRICE[c] * subproblem[:buy][c] for c in CROPS\n",
    "        )\n",
    "    )\n",
    "end"
   ],
   "metadata": {},
   "execution_count": null
  },
  {
   "cell_type": "markdown",
   "source": [
    "#### Random variables"
   ],
   "metadata": {}
  },
  {
   "cell_type": "markdown",
   "source": [
    "Then, in the `SDDP.parameterize` function, we set the coefficient\n",
    "using `JuMP.set_normalized_coefficient`."
   ],
   "metadata": {}
  },
  {
   "outputs": [],
   "cell_type": "code",
   "source": [
    "function second_stage_uncertainty(subproblem)\n",
    "    @constraint(\n",
    "        subproblem,\n",
    "        uncertainty[c = CROPS],\n",
    "        1.0 * subproblem[:area][c].in == subproblem[:yield][c]\n",
    "    )\n",
    "    SDDP.parameterize(subproblem, [:good, :fair, :bad]) do ω\n",
    "        for c in CROPS\n",
    "            JuMP.set_normalized_coefficient(\n",
    "                uncertainty[c],\n",
    "                subproblem[:area][c].in,\n",
    "                MEAN_YIELD[c] * YIELD_MULTIPLIER[ω],\n",
    "            )\n",
    "        end\n",
    "    end\n",
    "end"
   ],
   "metadata": {},
   "execution_count": null
  },
  {
   "cell_type": "markdown",
   "source": [
    "### Putting it all together"
   ],
   "metadata": {}
  },
  {
   "cell_type": "markdown",
   "source": [
    "Now we're ready to build the multistage stochastic programming model. In\n",
    "addition to the things already discussed, we need a few extra pieces of\n",
    "information.\n",
    "\n",
    "First, we are maximizing, so we set `sense = :Max`. Second, we need to provide\n",
    "a valid upper bound. (See Choosing an initial bound for more on this.)\n",
    "We know from Birge and Louveaux that the optimal solution is \\$108,390.  So,\n",
    "let's choose \\$500,000 just to be safe."
   ],
   "metadata": {}
  },
  {
   "cell_type": "markdown",
   "source": [
    "Here is the full model."
   ],
   "metadata": {}
  },
  {
   "outputs": [],
   "cell_type": "code",
   "source": [
    "model = SDDP.LinearPolicyGraph(\n",
    "    stages = 2,\n",
    "    sense = :Max,\n",
    "    upper_bound = 500_000.0,\n",
    "    optimizer = HiGHS.Optimizer,\n",
    ") do subproblem, stage\n",
    "    add_state_variables(subproblem)\n",
    "    if stage == 1\n",
    "        create_first_stage_problem(subproblem)\n",
    "    else\n",
    "        second_stage_variables(subproblem)\n",
    "        second_stage_constraint_min_quantity(subproblem)\n",
    "        second_stage_uncertainty(subproblem)\n",
    "        second_stage_objective(subproblem)\n",
    "    end\n",
    "end"
   ],
   "metadata": {},
   "execution_count": null
  },
  {
   "cell_type": "markdown",
   "source": [
    "## Training a policy"
   ],
   "metadata": {}
  },
  {
   "cell_type": "markdown",
   "source": [
    "Now that we've built a model, we need to train it using `SDDP.train`.\n",
    "The keyword `iteration_limit` stops the training after 20 iterations. See\n",
    "Choose a stopping rule for other ways to stop the training."
   ],
   "metadata": {}
  },
  {
   "outputs": [],
   "cell_type": "code",
   "source": [
    "SDDP.train(model; iteration_limit = 20)"
   ],
   "metadata": {},
   "execution_count": null
  },
  {
   "cell_type": "markdown",
   "source": [
    "## Checking the policy"
   ],
   "metadata": {}
  },
  {
   "cell_type": "markdown",
   "source": [
    "Birge and Louveaux report that the optimal objective value is \\$108,390.\n",
    "Check that we got the correct solution using `SDDP.calculate_bound`:"
   ],
   "metadata": {}
  },
  {
   "outputs": [],
   "cell_type": "code",
   "source": [
    "@assert isapprox(SDDP.calculate_bound(model), 108_390.0, atol = 0.1)"
   ],
   "metadata": {},
   "execution_count": null
  }
 ],
 "nbformat_minor": 3,
 "metadata": {
  "language_info": {
   "file_extension": ".jl",
   "mimetype": "application/julia",
   "name": "julia",
   "version": "1.10.4"
  },
  "kernelspec": {
   "name": "julia-1.10",
   "display_name": "Julia 1.10.4",
   "language": "julia"
  }
 },
 "nbformat": 4
}
