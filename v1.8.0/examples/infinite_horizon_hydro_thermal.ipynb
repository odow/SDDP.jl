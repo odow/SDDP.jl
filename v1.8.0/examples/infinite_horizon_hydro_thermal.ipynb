{
 "cells": [
  {
   "cell_type": "markdown",
   "source": [
    "# Infinite horizon hydro-thermal"
   ],
   "metadata": {}
  },
  {
   "outputs": [],
   "cell_type": "code",
   "source": [
    "using SDDP, HiGHS, Test, Statistics\n",
    "\n",
    "function infinite_hydro_thermal(; cut_type)\n",
    "    Ω = [\n",
    "        (inflow = 0.0, demand = 7.5),\n",
    "        (inflow = 5.0, demand = 5),\n",
    "        (inflow = 10.0, demand = 2.5),\n",
    "    ]\n",
    "    graph = SDDP.Graph(\n",
    "        :root_node,\n",
    "        [:week],\n",
    "        [(:root_node => :week, 1.0), (:week => :week, 0.9)],\n",
    "    )\n",
    "    model = SDDP.PolicyGraph(\n",
    "        graph;\n",
    "        lower_bound = 0,\n",
    "        optimizer = HiGHS.Optimizer,\n",
    "    ) do subproblem, node\n",
    "        @variable(\n",
    "            subproblem,\n",
    "            5.0 <= reservoir <= 15.0,\n",
    "            SDDP.State,\n",
    "            initial_value = 10.0\n",
    "        )\n",
    "        @variables(subproblem, begin\n",
    "            thermal_generation >= 0\n",
    "            hydro_generation >= 0\n",
    "            spill >= 0\n",
    "            inflow\n",
    "            demand\n",
    "        end)\n",
    "        @constraints(\n",
    "            subproblem,\n",
    "            begin\n",
    "                reservoir.out == reservoir.in - hydro_generation - spill + inflow\n",
    "                hydro_generation + thermal_generation == demand\n",
    "            end\n",
    "        )\n",
    "        @stageobjective(subproblem, 10 * spill + thermal_generation)\n",
    "        SDDP.parameterize(subproblem, Ω) do ω\n",
    "            JuMP.fix(inflow, ω.inflow)\n",
    "            return JuMP.fix(demand, ω.demand)\n",
    "        end\n",
    "    end\n",
    "    SDDP.train(\n",
    "        model;\n",
    "        cut_type = cut_type,\n",
    "        log_frequency = 100,\n",
    "        sampling_scheme = SDDP.InSampleMonteCarlo(terminate_on_cycle = true),\n",
    "        cycle_discretization_delta = 0.1,\n",
    "    )\n",
    "    @test SDDP.calculate_bound(model) ≈ 119.167 atol = 0.1\n",
    "\n",
    "    results = SDDP.simulate(model, 500)\n",
    "    objectives =\n",
    "        [sum(s[:stage_objective] for s in simulation) for simulation in results]\n",
    "    sample_mean = round(Statistics.mean(objectives); digits = 2)\n",
    "    sample_ci = round(1.96 * Statistics.std(objectives) / sqrt(500); digits = 2)\n",
    "    println(\"Confidence_interval = $(sample_mean) ± $(sample_ci)\")\n",
    "    @test sample_mean - sample_ci <= 119.167 <= sample_mean + sample_ci\n",
    "    return\n",
    "end\n",
    "\n",
    "infinite_hydro_thermal(cut_type = SDDP.SINGLE_CUT)\n",
    "infinite_hydro_thermal(cut_type = SDDP.MULTI_CUT)"
   ],
   "metadata": {},
   "execution_count": null
  }
 ],
 "nbformat_minor": 3,
 "metadata": {
  "language_info": {
   "file_extension": ".jl",
   "mimetype": "application/julia",
   "name": "julia",
   "version": "1.10.4"
  },
  "kernelspec": {
   "name": "julia-1.10",
   "display_name": "Julia 1.10.4",
   "language": "julia"
  }
 },
 "nbformat": 4
}
