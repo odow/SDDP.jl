{
 "cells": [
  {
   "cell_type": "markdown",
   "source": [
    "# Stochastic All Blacks"
   ],
   "metadata": {}
  },
  {
   "outputs": [],
   "cell_type": "code",
   "source": [
    "using SDDP, HiGHS, Test\n",
    "\n",
    "function stochastic_all_blacks()\n",
    "    # Number of time periods\n",
    "    T = 3\n",
    "    # Number of seats\n",
    "    N = 2\n",
    "    # R_ij = price of seat i at time j\n",
    "    R = [3 3 6; 3 3 6]\n",
    "    # Number of noises\n",
    "    s = 3\n",
    "    offers = [\n",
    "        [[1, 1], [0, 0], [1, 1]],\n",
    "        [[1, 0], [0, 0], [0, 0]],\n",
    "        [[0, 1], [1, 0], [1, 1]],\n",
    "    ]\n",
    "\n",
    "    model = SDDP.LinearPolicyGraph(\n",
    "        stages = T,\n",
    "        sense = :Max,\n",
    "        upper_bound = 100.0,\n",
    "        optimizer = HiGHS.Optimizer,\n",
    "    ) do sp, stage\n",
    "        # Seat remaining?\n",
    "        @variable(sp, 0 <= x[1:N] <= 1, SDDP.State, Bin, initial_value = 1)\n",
    "        # Action: accept offer, or don't accept offer\n",
    "        # We are allowed to accept some of the seats offered but not others\n",
    "        @variable(sp, accept_offer[1:N], Bin)\n",
    "        @variable(sp, offers_made[1:N])\n",
    "        # Balance on seats\n",
    "        @constraint(\n",
    "            sp,\n",
    "            balance[i in 1:N],\n",
    "            x[i].in - x[i].out == accept_offer[i]\n",
    "        )\n",
    "        @stageobjective(sp, sum(R[i, stage] * accept_offer[i] for i in 1:N))\n",
    "        SDDP.parameterize(sp, offers[stage]) do o\n",
    "            return JuMP.fix.(offers_made, o)\n",
    "        end\n",
    "        @constraint(sp, accept_offer .<= offers_made)\n",
    "    end\n",
    "\n",
    "    SDDP.train(model; duality_handler = SDDP.LagrangianDuality())\n",
    "    @test SDDP.calculate_bound(model) ≈ 8.0\n",
    "    return\n",
    "end\n",
    "\n",
    "stochastic_all_blacks()"
   ],
   "metadata": {},
   "execution_count": null
  }
 ],
 "nbformat_minor": 3,
 "metadata": {
  "language_info": {
   "file_extension": ".jl",
   "mimetype": "application/julia",
   "name": "julia",
   "version": "1.10.4"
  },
  "kernelspec": {
   "name": "julia-1.10",
   "display_name": "Julia 1.10.4",
   "language": "julia"
  }
 },
 "nbformat": 4
}
