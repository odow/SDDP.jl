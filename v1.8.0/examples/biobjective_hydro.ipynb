{
 "cells": [
  {
   "cell_type": "markdown",
   "source": [
    "# Biobjective hydro-thermal"
   ],
   "metadata": {}
  },
  {
   "outputs": [],
   "cell_type": "code",
   "source": [
    "using SDDP, HiGHS, Statistics, Test\n",
    "\n",
    "function biobjective_example()\n",
    "    model = SDDP.LinearPolicyGraph(\n",
    "        stages = 3,\n",
    "        lower_bound = 0.0,\n",
    "        optimizer = HiGHS.Optimizer,\n",
    "    ) do subproblem, _\n",
    "        @variable(subproblem, 0 <= v <= 200, SDDP.State, initial_value = 50)\n",
    "        @variables(subproblem, begin\n",
    "            0 <= g[i = 1:2] <= 100\n",
    "            0 <= u <= 150\n",
    "            s >= 0\n",
    "            shortage_cost >= 0\n",
    "        end)\n",
    "        @expressions(subproblem, begin\n",
    "            objective_1, g[1] + 10 * g[2]\n",
    "            objective_2, shortage_cost\n",
    "        end)\n",
    "        @constraints(subproblem, begin\n",
    "                inflow_constraint, v.out == v.in - u - s\n",
    "                g[1] + g[2] + u == 150\n",
    "                shortage_cost >= 40 - v.out\n",
    "                shortage_cost >= 60 - 2 * v.out\n",
    "                shortage_cost >= 80 - 4 * v.out\n",
    "            end)\n",
    "        # You must call this for a biobjective problem!\n",
    "        SDDP.initialize_biobjective_subproblem(subproblem)\n",
    "        SDDP.parameterize(subproblem, 0.0:5:50.0) do ω\n",
    "            JuMP.set_normalized_rhs(inflow_constraint, ω)\n",
    "            # You must call `set_biobjective_functions` from within\n",
    "            # `SDDP.parameterize`.\n",
    "            return SDDP.set_biobjective_functions(\n",
    "                subproblem,\n",
    "                objective_1,\n",
    "                objective_2,\n",
    "            )\n",
    "        end\n",
    "    end\n",
    "    pareto_weights =\n",
    "        SDDP.train_biobjective(model, solution_limit = 10, iteration_limit = 10)\n",
    "    solutions = [(k, v) for (k, v) in pareto_weights]\n",
    "    sort!(solutions; by = x -> x[1])\n",
    "    @test length(solutions) == 10\n",
    "    # Test for convexity! The gradient must be decreasing as we move from left\n",
    "    # to right.\n",
    "    gradient(a, b) = (b[2] - a[2]) / (b[1] - a[1])\n",
    "    grad = Inf\n",
    "    for i in 1:9\n",
    "        new_grad = gradient(solutions[i], solutions[i+1])\n",
    "        @test new_grad < grad\n",
    "        grad = new_grad\n",
    "    end\n",
    "    return\n",
    "end\n",
    "\n",
    "biobjective_example()"
   ],
   "metadata": {},
   "execution_count": null
  }
 ],
 "nbformat_minor": 3,
 "metadata": {
  "language_info": {
   "file_extension": ".jl",
   "mimetype": "application/julia",
   "name": "julia",
   "version": "1.10.4"
  },
  "kernelspec": {
   "name": "julia-1.10",
   "display_name": "Julia 1.10.4",
   "language": "julia"
  }
 },
 "nbformat": 4
}
