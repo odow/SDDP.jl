{
 "cells": [
  {
   "cell_type": "markdown",
   "source": [
    "# Hydro-thermal with inner approximation"
   ],
   "metadata": {}
  },
  {
   "cell_type": "markdown",
   "source": [
    "This is a simple version of the hydro-thermal scheduling problem. The goal is\n",
    "to operate one hydro-dam and two thermal plants over time in the face of\n",
    "inflow uncertainty."
   ],
   "metadata": {}
  },
  {
   "cell_type": "markdown",
   "source": [
    "The purpose of this tutorial is to provide a demonstration of the experimental\n",
    "`SDDP.Inner` submodule.\n",
    "\n",
    "> **Warning**\n",
    ">\n",
    "> The `SDDP.Inner` code in this example is experimental and the API may\n",
    "> change in any future release."
   ],
   "metadata": {}
  },
  {
   "outputs": [],
   "cell_type": "code",
   "source": [
    "using SDDP\n",
    "using Test\n",
    "\n",
    "import HiGHS\n",
    "import Random\n",
    "\n",
    "function test_inner_hydro_1d()\n",
    "    Random.seed!(2)\n",
    "    stages = 4\n",
    "    Ω = max.(40 .+ 20.0 * randn(10), 0.0)\n",
    "    risk_measure = SDDP.EAVaR(; lambda = 0.5, beta = 0.2)\n",
    "    function build_subproblem(sp::JuMP.Model, t::Int)\n",
    "        @variable(sp, 0 <= x_vol <= 100, SDDP.State, initial_value = 83.222)\n",
    "        @variable(sp, 0 <= u_gh <= 60)\n",
    "        @variable(sp, 0 <= u_spill <= 200)\n",
    "        @variable(sp, 0 <= u_gt[1:2] <= 15)\n",
    "        @variable(sp, 0 <= u_def <= 75)\n",
    "        @variable(sp, w_inflow == 0.0)\n",
    "        @constraint(sp, sum(u_gt) + u_gh + u_def == 75)\n",
    "        @constraint(sp, x_vol.in + w_inflow - u_gh - u_spill == x_vol.out)\n",
    "        if t > 1\n",
    "            SDDP.parameterize(w -> JuMP.fix(w_inflow, w), sp, Ω)\n",
    "        end\n",
    "        @stageobjective(sp, u_spill + 5 * u_gt[1] + 10 * u_gt[2] + 50 * u_def)\n",
    "    end\n",
    "    println(\"Building and solving primal outer model for lower bounds\")\n",
    "    model = SDDP.LinearPolicyGraph(\n",
    "        build_subproblem;\n",
    "        stages,\n",
    "        sense = :Min,\n",
    "        optimizer = HiGHS.Optimizer,\n",
    "        lower_bound = 0.0,\n",
    "    )\n",
    "    SDDP.train(model; iteration_limit = 10, risk_measure)\n",
    "    lower_bound = SDDP.calculate_bound(model)\n",
    "\n",
    "    simulations =\n",
    "        SDDP.simulate(model, 500, [:x_vol, :u_gh, :u_spill, :u_gt, :u_def])\n",
    "    objs = [sum(data[:stage_objective] for data in sim) for sim in simulations]\n",
    "    μ, ci = round.(SDDP.confidence_interval(objs); digits = 2)\n",
    "    println(\"Building and solving inner model for upper bounds:\")\n",
    "    inner_model, upper_bound = SDDP.Inner.inner_dp(\n",
    "        build_subproblem,\n",
    "        model;\n",
    "        stages,\n",
    "        sense = :Min,\n",
    "        optimizer = HiGHS.Optimizer,\n",
    "        lower_bound = 0.0,\n",
    "        risk_measure,\n",
    "        bellman_function = SDDP.Inner.InnerBellmanFunction(\n",
    "            t -> 50.0 * (stages - t);\n",
    "            upper_bound = t -> 75.0 * 50.0 * (stages - t),\n",
    "            vertex_type = SDDP.SINGLE_CUT,\n",
    "        ),\n",
    "    )\n",
    "    @test lower_bound <= upper_bound\n",
    "    println()\n",
    "    println(\"Bounds:\")\n",
    "    println(\"  Risk-neutral confidence interval: \", μ, \" ± \", ci)\n",
    "    println(\"  Risk-adjusted lower bound: \", round(lower_bound; digits = 2))\n",
    "    println(\"  Risk-adjusted upper bound: \", round(upper_bound; digits = 2))\n",
    "    return\n",
    "end\n",
    "\n",
    "test_inner_hydro_1d()"
   ],
   "metadata": {},
   "execution_count": null
  }
 ],
 "nbformat_minor": 3,
 "metadata": {
  "language_info": {
   "file_extension": ".jl",
   "mimetype": "application/julia",
   "name": "julia",
   "version": "1.11.6"
  },
  "kernelspec": {
   "name": "julia-1.11",
   "display_name": "Julia 1.11.6",
   "language": "julia"
  }
 },
 "nbformat": 4
}
