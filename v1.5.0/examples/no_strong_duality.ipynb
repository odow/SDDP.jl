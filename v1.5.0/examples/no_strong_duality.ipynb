{
 "cells": [
  {
   "cell_type": "markdown",
   "source": [
    "# No strong duality"
   ],
   "metadata": {}
  },
  {
   "cell_type": "markdown",
   "source": [
    "This example is interesting, because strong duality doesn't hold for the\n",
    "extensive form (see if you can show why!), but we still converge."
   ],
   "metadata": {}
  },
  {
   "outputs": [],
   "cell_type": "code",
   "source": [
    "using SDDP, HiGHS, Test\n",
    "\n",
    "function no_strong_duality()\n",
    "    model = SDDP.PolicyGraph(\n",
    "        SDDP.Graph(\n",
    "            :root,\n",
    "            [:node],\n",
    "            [(:root => :node, 1.0), (:node => :node, 0.5)],\n",
    "        ),\n",
    "        optimizer = HiGHS.Optimizer,\n",
    "        lower_bound = 0.0,\n",
    "    ) do sp, t\n",
    "        @variable(sp, x, SDDP.State, initial_value = 1.0)\n",
    "        @stageobjective(sp, x.out)\n",
    "        @constraint(sp, x.in == x.out)\n",
    "    end\n",
    "    SDDP.train(model; stopping_rules = [SDDP.SimulationStoppingRule()])\n",
    "    @test SDDP.calculate_bound(model) ≈ 2.0 atol = 1e-5\n",
    "    return\n",
    "end\n",
    "\n",
    "no_strong_duality()"
   ],
   "metadata": {},
   "execution_count": null
  },
  {
   "cell_type": "markdown",
   "source": [
    "---\n",
    "\n",
    "*This notebook was generated using [Literate.jl](https://github.com/fredrikekre/Literate.jl).*"
   ],
   "metadata": {}
  }
 ],
 "nbformat_minor": 3,
 "metadata": {
  "language_info": {
   "file_extension": ".jl",
   "mimetype": "application/julia",
   "name": "julia",
   "version": "1.9.0"
  },
  "kernelspec": {
   "name": "julia-1.9",
   "display_name": "Julia 1.9.0",
   "language": "julia"
  }
 },
 "nbformat": 4
}
