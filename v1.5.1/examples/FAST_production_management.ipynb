{
 "cells": [
  {
   "cell_type": "markdown",
   "source": [
    "# FAST: the production management problem"
   ],
   "metadata": {}
  },
  {
   "cell_type": "markdown",
   "source": [
    "An implementation of the Production Management example from [FAST](https://github.com/leopoldcambier/FAST/blob/daea3d80a5ebb2c52f78670e34db56d53ca2e778/examples/production management multiple stages/)"
   ],
   "metadata": {}
  },
  {
   "outputs": [],
   "cell_type": "code",
   "source": [
    "using SDDP, HiGHS, Test\n",
    "\n",
    "function fast_production_management(; cut_type)\n",
    "    DEMAND = [2, 10]\n",
    "    H = 3\n",
    "    N = 2\n",
    "    C = [0.2, 0.7]\n",
    "    S = 2 .+ [0.33, 0.54]\n",
    "    model = SDDP.LinearPolicyGraph(;\n",
    "        stages = H,\n",
    "        lower_bound = -50.0,\n",
    "        optimizer = HiGHS.Optimizer,\n",
    "    ) do sp, t\n",
    "        @variable(sp, x[1:N] >= 0, SDDP.State, initial_value = 0.0)\n",
    "        @variables(sp, begin\n",
    "            s[i = 1:N] >= 0\n",
    "            d\n",
    "        end)\n",
    "        @constraints(sp, begin\n",
    "            [i = 1:N], s[i] <= x[i].in\n",
    "            sum(s) <= d\n",
    "        end)\n",
    "        SDDP.parameterize(sp, t == 1 ? [0] : DEMAND) do ω\n",
    "            return JuMP.fix(d, ω)\n",
    "        end\n",
    "        @stageobjective(sp, sum(C[i] * x[i].out for i in 1:N) - S's)\n",
    "    end\n",
    "    SDDP.train(model; cut_type = cut_type, print_level = 2, log_frequency = 5)\n",
    "    @test SDDP.calculate_bound(model) ≈ -23.96 atol = 1e-2\n",
    "end\n",
    "\n",
    "fast_production_management(cut_type = SDDP.SINGLE_CUT)\n",
    "fast_production_management(cut_type = SDDP.MULTI_CUT)"
   ],
   "metadata": {},
   "execution_count": null
  },
  {
   "cell_type": "markdown",
   "source": [
    "---\n",
    "\n",
    "*This notebook was generated using [Literate.jl](https://github.com/fredrikekre/Literate.jl).*"
   ],
   "metadata": {}
  }
 ],
 "nbformat_minor": 3,
 "metadata": {
  "language_info": {
   "file_extension": ".jl",
   "mimetype": "application/julia",
   "name": "julia",
   "version": "1.9.1"
  },
  "kernelspec": {
   "name": "julia-1.9",
   "display_name": "Julia 1.9.1",
   "language": "julia"
  }
 },
 "nbformat": 4
}
