{
 "cells": [
  {
   "cell_type": "markdown",
   "source": [
    "# Asset management"
   ],
   "metadata": {}
  },
  {
   "cell_type": "markdown",
   "source": [
    "Taken from the book\n",
    "J.R. Birge, F. Louveaux, Introduction to Stochastic Programming,\n",
    "Springer Series in Operations Research and Financial Engineering,\n",
    "Springer New York, New York, NY, 2011"
   ],
   "metadata": {}
  },
  {
   "outputs": [],
   "cell_type": "code",
   "source": [
    "using SDDP, HiGHS, Test\n",
    "\n",
    "function asset_management_simple()\n",
    "    model = SDDP.PolicyGraph(\n",
    "        SDDP.MarkovianGraph(\n",
    "            Array{Float64,2}[\n",
    "                [1.0]',\n",
    "                [0.5 0.5],\n",
    "                [0.5 0.5; 0.5 0.5],\n",
    "                [0.5 0.5; 0.5 0.5],\n",
    "            ],\n",
    "        ),\n",
    "        lower_bound = -1_000.0,\n",
    "        optimizer = HiGHS.Optimizer,\n",
    "    ) do subproblem, index\n",
    "        (stage, markov_state) = index\n",
    "        r_stock = [1.25, 1.06]\n",
    "        r_bonds = [1.14, 1.12]\n",
    "        @variable(subproblem, stocks >= 0, SDDP.State, initial_value = 0.0)\n",
    "        @variable(subproblem, bonds >= 0, SDDP.State, initial_value = 0.0)\n",
    "        if stage == 1\n",
    "            @constraint(subproblem, stocks.out + bonds.out == 55)\n",
    "            @stageobjective(subproblem, 0)\n",
    "        elseif 1 < stage < 4\n",
    "            @constraint(\n",
    "                subproblem,\n",
    "                r_stock[markov_state] * stocks.in +\n",
    "                r_bonds[markov_state] * bonds.in == stocks.out + bonds.out\n",
    "            )\n",
    "            @stageobjective(subproblem, 0)\n",
    "        else\n",
    "            @variable(subproblem, over >= 0)\n",
    "            @variable(subproblem, short >= 0)\n",
    "            @constraint(\n",
    "                subproblem,\n",
    "                r_stock[markov_state] * stocks.in +\n",
    "                r_bonds[markov_state] * bonds.in - over + short == 80\n",
    "            )\n",
    "            @stageobjective(subproblem, -over + 4 * short)\n",
    "        end\n",
    "    end\n",
    "    SDDP.train(model; log_frequency = 5)\n",
    "    @test SDDP.calculate_bound(model) ≈ 1.514 atol = 1e-4\n",
    "    return\n",
    "end\n",
    "\n",
    "asset_management_simple()"
   ],
   "metadata": {},
   "execution_count": null
  },
  {
   "cell_type": "markdown",
   "source": [
    "---\n",
    "\n",
    "*This notebook was generated using [Literate.jl](https://github.com/fredrikekre/Literate.jl).*"
   ],
   "metadata": {}
  }
 ],
 "nbformat_minor": 3,
 "metadata": {
  "language_info": {
   "file_extension": ".jl",
   "mimetype": "application/julia",
   "name": "julia",
   "version": "1.9.2"
  },
  "kernelspec": {
   "name": "julia-1.9",
   "display_name": "Julia 1.9.2",
   "language": "julia"
  }
 },
 "nbformat": 4
}
