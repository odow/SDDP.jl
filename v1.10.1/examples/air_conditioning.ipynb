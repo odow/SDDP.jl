{
 "cells": [
  {
   "cell_type": "markdown",
   "source": [
    "# Air conditioning"
   ],
   "metadata": {}
  },
  {
   "cell_type": "markdown",
   "source": [
    "Taken from [Anthony Papavasiliou's notes on SDDP](https://web.archive.org/web/20200504214809/https://perso.uclouvain.be/anthony.papavasiliou/public_html/SDDP.pdf)\n",
    "This is a variation of the problem that first appears in the book\n",
    "Introduction to Stochastic Programming by Birge and Louveaux, 1997,\n",
    "Springer-Verlag, New York, on page 237, Example 1. For a rescaled problem,\n",
    "they reported an optimal value of 6.25 with a first-stage solution of x1 = 2\n",
    "(production)and y1 = 1 (store production). On this variation, without rescaling,\n",
    "it would be equivalent to 62500, 200 and 100, respectively."
   ],
   "metadata": {}
  },
  {
   "cell_type": "markdown",
   "source": [
    "Consider the following problem\n",
    "* Produce air conditioners for 3 months\n",
    "* 200 units/month at 100 \\$/unit\n",
    "* Overtime costs 300 \\$/unit\n",
    "* Known demand of 100 units for period 1\n",
    "* Equally likely demand, 100 or 300 units, for periods 2, 3\n",
    "* Storage cost is 50 \\$/unit\n",
    "* All demand must be met"
   ],
   "metadata": {}
  },
  {
   "cell_type": "markdown",
   "source": [
    "The known optimal solution is \\$62,500"
   ],
   "metadata": {}
  },
  {
   "outputs": [],
   "cell_type": "code",
   "source": [
    "using SDDP, HiGHS, Test\n",
    "\n",
    "function air_conditioning_model(duality_handler)\n",
    "    model = SDDP.LinearPolicyGraph(;\n",
    "        stages = 3,\n",
    "        lower_bound = 0.0,\n",
    "        optimizer = HiGHS.Optimizer,\n",
    "    ) do sp, stage\n",
    "        @variable(\n",
    "            sp,\n",
    "            0 <= stored_production <= 100,\n",
    "            Int,\n",
    "            SDDP.State,\n",
    "            initial_value = 0\n",
    "        )\n",
    "        @variable(sp, 0 <= production <= 200, Int)\n",
    "        @variable(sp, overtime >= 0, Int)\n",
    "        @variable(sp, demand)\n",
    "        DEMAND = [[100.0], [100.0, 300.0], [100.0, 300.0]]\n",
    "        SDDP.parameterize(ω -> JuMP.fix(demand, ω), sp, DEMAND[stage])\n",
    "        @constraint(\n",
    "            sp,\n",
    "            stored_production.out ==\n",
    "            stored_production.in + production + overtime - demand\n",
    "        )\n",
    "        @stageobjective(\n",
    "            sp,\n",
    "            100 * production + 300 * overtime + 50 * stored_production.out\n",
    "        )\n",
    "    end\n",
    "    SDDP.train(model; duality_handler = duality_handler)\n",
    "    lb = SDDP.calculate_bound(model)\n",
    "    println(\"Lower bound is: $lb\")\n",
    "    @test isapprox(lb, 62_500.0, atol = 0.1)\n",
    "    sims = SDDP.simulate(model, 1, [:production, :stored_production])\n",
    "    x1 = sims[1][1][:production]\n",
    "    y1 = sims[1][1][:stored_production].out\n",
    "    @test isapprox(x1, 200, atol = 0.1)\n",
    "    @test isapprox(y1, 100, atol = 0.1)\n",
    "    println(\n",
    "        \"With first stage solutions $(x1) (production) and $(y1) (stored_production).\",\n",
    "    )\n",
    "    return\n",
    "end\n",
    "\n",
    "for duality_handler in [SDDP.LagrangianDuality(), SDDP.ContinuousConicDuality()]\n",
    "    air_conditioning_model(duality_handler)\n",
    "end"
   ],
   "metadata": {},
   "execution_count": null
  }
 ],
 "nbformat_minor": 3,
 "metadata": {
  "language_info": {
   "file_extension": ".jl",
   "mimetype": "application/julia",
   "name": "julia",
   "version": "1.11.1"
  },
  "kernelspec": {
   "name": "julia-1.11",
   "display_name": "Julia 1.11.1",
   "language": "julia"
  }
 },
 "nbformat": 4
}
